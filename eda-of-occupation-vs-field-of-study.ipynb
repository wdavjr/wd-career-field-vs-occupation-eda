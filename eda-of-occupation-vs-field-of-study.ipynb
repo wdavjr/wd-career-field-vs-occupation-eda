{
 "cells": [
  {
   "cell_type": "code",
   "execution_count": 1,
   "id": "3b63766b",
   "metadata": {
    "_cell_guid": "b1076dfc-b9ad-4769-8c92-a6c4dae69d19",
    "_uuid": "8f2839f25d086af736a60e9eeb907d3b93b6e0e5",
    "execution": {
     "iopub.execute_input": "2025-01-01T03:02:22.798999Z",
     "iopub.status.busy": "2025-01-01T03:02:22.798611Z",
     "iopub.status.idle": "2025-01-01T03:02:23.202120Z",
     "shell.execute_reply": "2025-01-01T03:02:23.200947Z"
    },
    "papermill": {
     "duration": 0.410972,
     "end_time": "2025-01-01T03:02:23.204013",
     "exception": false,
     "start_time": "2025-01-01T03:02:22.793041",
     "status": "completed"
    },
    "tags": []
   },
   "outputs": [
    {
     "name": "stdout",
     "output_type": "stream",
     "text": [
      "/kaggle/input/field-of-study-vs-occupation/career_change_prediction_dataset.csv\n"
     ]
    }
   ],
   "source": [
    "# This Python 3 environment comes with many helpful analytics libraries installed\n",
    "# It is defined by the kaggle/python Docker image: https://github.com/kaggle/docker-python\n",
    "# For example, here's several helpful packages to load\n",
    "\n",
    "import numpy as np # linear algebra\n",
    "import pandas as pd # data processing, CSV file I/O (e.g. pd.read_csv)\n",
    "\n",
    "# Input data files are available in the read-only \"../input/\" directory\n",
    "# For example, running this (by clicking run or pressing Shift+Enter) will list all files under the input directory\n",
    "\n",
    "import os\n",
    "for dirname, _, filenames in os.walk('/kaggle/input'):\n",
    "    for filename in filenames:\n",
    "        print(os.path.join(dirname, filename))\n",
    "\n",
    "# You can write up to 20GB to the current directory (/kaggle/working/) that gets preserved as output when you create a version using \"Save & Run All\" \n",
    "# You can also write temporary files to /kaggle/temp/, but they won't be saved outside of the current session"
   ]
  },
  {
   "cell_type": "code",
   "execution_count": 2,
   "id": "c58869cb",
   "metadata": {
    "execution": {
     "iopub.execute_input": "2025-01-01T03:02:23.213463Z",
     "iopub.status.busy": "2025-01-01T03:02:23.212939Z",
     "iopub.status.idle": "2025-01-01T03:02:24.878952Z",
     "shell.execute_reply": "2025-01-01T03:02:24.877909Z"
    },
    "papermill": {
     "duration": 1.672527,
     "end_time": "2025-01-01T03:02:24.880990",
     "exception": false,
     "start_time": "2025-01-01T03:02:23.208463",
     "status": "completed"
    },
    "tags": []
   },
   "outputs": [],
   "source": [
    "import warnings\n",
    "warnings.filterwarnings('ignore')\n",
    "import matplotlib.pyplot as plt\n",
    "import seaborn as sns\n",
    "import pandas as pd\n",
    "import numpy as np"
   ]
  },
  {
   "cell_type": "code",
   "execution_count": 3,
   "id": "373dc159",
   "metadata": {
    "execution": {
     "iopub.execute_input": "2025-01-01T03:02:24.890414Z",
     "iopub.status.busy": "2025-01-01T03:02:24.889916Z",
     "iopub.status.idle": "2025-01-01T03:02:25.100597Z",
     "shell.execute_reply": "2025-01-01T03:02:25.099462Z"
    },
    "papermill": {
     "duration": 0.217193,
     "end_time": "2025-01-01T03:02:25.102473",
     "exception": false,
     "start_time": "2025-01-01T03:02:24.885280",
     "status": "completed"
    },
    "tags": []
   },
   "outputs": [
    {
     "data": {
      "text/html": [
       "<div>\n",
       "<style scoped>\n",
       "    .dataframe tbody tr th:only-of-type {\n",
       "        vertical-align: middle;\n",
       "    }\n",
       "\n",
       "    .dataframe tbody tr th {\n",
       "        vertical-align: top;\n",
       "    }\n",
       "\n",
       "    .dataframe thead th {\n",
       "        text-align: right;\n",
       "    }\n",
       "</style>\n",
       "<table border=\"1\" class=\"dataframe\">\n",
       "  <thead>\n",
       "    <tr style=\"text-align: right;\">\n",
       "      <th></th>\n",
       "      <th>Field of Study</th>\n",
       "      <th>Current Occupation</th>\n",
       "      <th>Age</th>\n",
       "      <th>Gender</th>\n",
       "      <th>Years of Experience</th>\n",
       "      <th>Education Level</th>\n",
       "      <th>Industry Growth Rate</th>\n",
       "      <th>Job Satisfaction</th>\n",
       "      <th>Work-Life Balance</th>\n",
       "      <th>Job Opportunities</th>\n",
       "      <th>...</th>\n",
       "      <th>Skills Gap</th>\n",
       "      <th>Family Influence</th>\n",
       "      <th>Mentorship Available</th>\n",
       "      <th>Certifications</th>\n",
       "      <th>Freelancing Experience</th>\n",
       "      <th>Geographic Mobility</th>\n",
       "      <th>Professional Networks</th>\n",
       "      <th>Career Change Events</th>\n",
       "      <th>Technology Adoption</th>\n",
       "      <th>Likely to Change Occupation</th>\n",
       "    </tr>\n",
       "  </thead>\n",
       "  <tbody>\n",
       "    <tr>\n",
       "      <th>0</th>\n",
       "      <td>Medicine</td>\n",
       "      <td>Business Analyst</td>\n",
       "      <td>48</td>\n",
       "      <td>Male</td>\n",
       "      <td>7</td>\n",
       "      <td>High School</td>\n",
       "      <td>High</td>\n",
       "      <td>7</td>\n",
       "      <td>10</td>\n",
       "      <td>83</td>\n",
       "      <td>...</td>\n",
       "      <td>8</td>\n",
       "      <td>High</td>\n",
       "      <td>0</td>\n",
       "      <td>0</td>\n",
       "      <td>0</td>\n",
       "      <td>1</td>\n",
       "      <td>2</td>\n",
       "      <td>0</td>\n",
       "      <td>1</td>\n",
       "      <td>0</td>\n",
       "    </tr>\n",
       "    <tr>\n",
       "      <th>1</th>\n",
       "      <td>Education</td>\n",
       "      <td>Economist</td>\n",
       "      <td>44</td>\n",
       "      <td>Male</td>\n",
       "      <td>26</td>\n",
       "      <td>Master's</td>\n",
       "      <td>Low</td>\n",
       "      <td>10</td>\n",
       "      <td>3</td>\n",
       "      <td>55</td>\n",
       "      <td>...</td>\n",
       "      <td>3</td>\n",
       "      <td>Medium</td>\n",
       "      <td>0</td>\n",
       "      <td>0</td>\n",
       "      <td>1</td>\n",
       "      <td>1</td>\n",
       "      <td>2</td>\n",
       "      <td>1</td>\n",
       "      <td>9</td>\n",
       "      <td>0</td>\n",
       "    </tr>\n",
       "    <tr>\n",
       "      <th>2</th>\n",
       "      <td>Education</td>\n",
       "      <td>Biologist</td>\n",
       "      <td>21</td>\n",
       "      <td>Female</td>\n",
       "      <td>27</td>\n",
       "      <td>Master's</td>\n",
       "      <td>Low</td>\n",
       "      <td>8</td>\n",
       "      <td>3</td>\n",
       "      <td>78</td>\n",
       "      <td>...</td>\n",
       "      <td>4</td>\n",
       "      <td>Low</td>\n",
       "      <td>0</td>\n",
       "      <td>0</td>\n",
       "      <td>0</td>\n",
       "      <td>0</td>\n",
       "      <td>2</td>\n",
       "      <td>1</td>\n",
       "      <td>2</td>\n",
       "      <td>0</td>\n",
       "    </tr>\n",
       "    <tr>\n",
       "      <th>3</th>\n",
       "      <td>Education</td>\n",
       "      <td>Business Analyst</td>\n",
       "      <td>33</td>\n",
       "      <td>Male</td>\n",
       "      <td>14</td>\n",
       "      <td>PhD</td>\n",
       "      <td>Medium</td>\n",
       "      <td>7</td>\n",
       "      <td>9</td>\n",
       "      <td>62</td>\n",
       "      <td>...</td>\n",
       "      <td>2</td>\n",
       "      <td>Medium</td>\n",
       "      <td>1</td>\n",
       "      <td>0</td>\n",
       "      <td>0</td>\n",
       "      <td>0</td>\n",
       "      <td>9</td>\n",
       "      <td>0</td>\n",
       "      <td>1</td>\n",
       "      <td>0</td>\n",
       "    </tr>\n",
       "    <tr>\n",
       "      <th>4</th>\n",
       "      <td>Arts</td>\n",
       "      <td>Doctor</td>\n",
       "      <td>28</td>\n",
       "      <td>Female</td>\n",
       "      <td>0</td>\n",
       "      <td>PhD</td>\n",
       "      <td>Low</td>\n",
       "      <td>3</td>\n",
       "      <td>1</td>\n",
       "      <td>8</td>\n",
       "      <td>...</td>\n",
       "      <td>5</td>\n",
       "      <td>Low</td>\n",
       "      <td>0</td>\n",
       "      <td>0</td>\n",
       "      <td>1</td>\n",
       "      <td>0</td>\n",
       "      <td>2</td>\n",
       "      <td>0</td>\n",
       "      <td>7</td>\n",
       "      <td>1</td>\n",
       "    </tr>\n",
       "  </tbody>\n",
       "</table>\n",
       "<p>5 rows × 23 columns</p>\n",
       "</div>"
      ],
      "text/plain": [
       "  Field of Study Current Occupation  Age  Gender  Years of Experience  \\\n",
       "0       Medicine   Business Analyst   48    Male                    7   \n",
       "1      Education          Economist   44    Male                   26   \n",
       "2      Education          Biologist   21  Female                   27   \n",
       "3      Education   Business Analyst   33    Male                   14   \n",
       "4           Arts             Doctor   28  Female                    0   \n",
       "\n",
       "  Education Level Industry Growth Rate  Job Satisfaction  Work-Life Balance  \\\n",
       "0     High School                 High                 7                 10   \n",
       "1        Master's                  Low                10                  3   \n",
       "2        Master's                  Low                 8                  3   \n",
       "3             PhD               Medium                 7                  9   \n",
       "4             PhD                  Low                 3                  1   \n",
       "\n",
       "   Job Opportunities  ...  Skills Gap  Family Influence  Mentorship Available  \\\n",
       "0                 83  ...           8              High                     0   \n",
       "1                 55  ...           3            Medium                     0   \n",
       "2                 78  ...           4               Low                     0   \n",
       "3                 62  ...           2            Medium                     1   \n",
       "4                  8  ...           5               Low                     0   \n",
       "\n",
       "   Certifications Freelancing Experience  Geographic Mobility  \\\n",
       "0               0                      0                    1   \n",
       "1               0                      1                    1   \n",
       "2               0                      0                    0   \n",
       "3               0                      0                    0   \n",
       "4               0                      1                    0   \n",
       "\n",
       "   Professional Networks  Career Change Events  Technology Adoption  \\\n",
       "0                      2                     0                    1   \n",
       "1                      2                     1                    9   \n",
       "2                      2                     1                    2   \n",
       "3                      9                     0                    1   \n",
       "4                      2                     0                    7   \n",
       "\n",
       "   Likely to Change Occupation  \n",
       "0                            0  \n",
       "1                            0  \n",
       "2                            0  \n",
       "3                            0  \n",
       "4                            1  \n",
       "\n",
       "[5 rows x 23 columns]"
      ]
     },
     "execution_count": 3,
     "metadata": {},
     "output_type": "execute_result"
    }
   ],
   "source": [
    "# Create function to load a new DataFrame\n",
    "def load_new_dataframe(filename):\n",
    "    try: \n",
    "        df = pd.read_csv(filename)\n",
    "    except: \n",
    "        print(\"Unable to load {filename}! Please check file location and try again!\")\n",
    "    \n",
    "    return df\n",
    "    \n",
    "df = load_new_dataframe(\"/kaggle/input/field-of-study-vs-occupation/career_change_prediction_dataset.csv\")\n",
    "\n",
    "# \n",
    "df.head()\n"
   ]
  },
  {
   "cell_type": "markdown",
   "id": "3d6b17a6",
   "metadata": {
    "papermill": {
     "duration": 0.003511,
     "end_time": "2025-01-01T03:02:25.110020",
     "exception": false,
     "start_time": "2025-01-01T03:02:25.106509",
     "status": "completed"
    },
    "tags": []
   },
   "source": [
    "## Data Preparation"
   ]
  },
  {
   "cell_type": "code",
   "execution_count": 4,
   "id": "10203739",
   "metadata": {
    "execution": {
     "iopub.execute_input": "2025-01-01T03:02:25.119572Z",
     "iopub.status.busy": "2025-01-01T03:02:25.119165Z",
     "iopub.status.idle": "2025-01-01T03:02:25.125313Z",
     "shell.execute_reply": "2025-01-01T03:02:25.124189Z"
    },
    "papermill": {
     "duration": 0.012971,
     "end_time": "2025-01-01T03:02:25.127155",
     "exception": false,
     "start_time": "2025-01-01T03:02:25.114184",
     "status": "completed"
    },
    "tags": []
   },
   "outputs": [
    {
     "data": {
      "text/plain": [
       "(38444, 23)"
      ]
     },
     "execution_count": 4,
     "metadata": {},
     "output_type": "execute_result"
    }
   ],
   "source": [
    "df.shape"
   ]
  },
  {
   "cell_type": "code",
   "execution_count": 5,
   "id": "5e332d2b",
   "metadata": {
    "execution": {
     "iopub.execute_input": "2025-01-01T03:02:25.136629Z",
     "iopub.status.busy": "2025-01-01T03:02:25.136205Z",
     "iopub.status.idle": "2025-01-01T03:02:25.156662Z",
     "shell.execute_reply": "2025-01-01T03:02:25.155391Z"
    },
    "papermill": {
     "duration": 0.027347,
     "end_time": "2025-01-01T03:02:25.158557",
     "exception": false,
     "start_time": "2025-01-01T03:02:25.131210",
     "status": "completed"
    },
    "tags": []
   },
   "outputs": [
    {
     "data": {
      "text/plain": [
       "Field of Study                    0\n",
       "Current Occupation                0\n",
       "Age                               0\n",
       "Gender                            0\n",
       "Years of Experience               0\n",
       "Education Level                   0\n",
       "Industry Growth Rate              0\n",
       "Job Satisfaction                  0\n",
       "Work-Life Balance                 0\n",
       "Job Opportunities                 0\n",
       "Salary                            0\n",
       "Job Security                      0\n",
       "Career Change Interest            0\n",
       "Skills Gap                        0\n",
       "Family Influence               9632\n",
       "Mentorship Available              0\n",
       "Certifications                    0\n",
       "Freelancing Experience            0\n",
       "Geographic Mobility               0\n",
       "Professional Networks             0\n",
       "Career Change Events              0\n",
       "Technology Adoption               0\n",
       "Likely to Change Occupation       0\n",
       "dtype: int64"
      ]
     },
     "execution_count": 5,
     "metadata": {},
     "output_type": "execute_result"
    }
   ],
   "source": [
    "# Count the number of null values\n",
    "df.isnull().sum()"
   ]
  },
  {
   "cell_type": "code",
   "execution_count": 6,
   "id": "73861e67",
   "metadata": {
    "execution": {
     "iopub.execute_input": "2025-01-01T03:02:25.168512Z",
     "iopub.status.busy": "2025-01-01T03:02:25.168038Z",
     "iopub.status.idle": "2025-01-01T03:02:25.176333Z",
     "shell.execute_reply": "2025-01-01T03:02:25.175117Z"
    },
    "papermill": {
     "duration": 0.015446,
     "end_time": "2025-01-01T03:02:25.178323",
     "exception": false,
     "start_time": "2025-01-01T03:02:25.162877",
     "status": "completed"
    },
    "tags": []
   },
   "outputs": [],
   "source": [
    "# Impute missing categorical values\n",
    "df['Family Influence'].fillna('Unknown', inplace=True)"
   ]
  },
  {
   "cell_type": "code",
   "execution_count": 7,
   "id": "fc6997e4",
   "metadata": {
    "execution": {
     "iopub.execute_input": "2025-01-01T03:02:25.187975Z",
     "iopub.status.busy": "2025-01-01T03:02:25.187595Z",
     "iopub.status.idle": "2025-01-01T03:02:25.221574Z",
     "shell.execute_reply": "2025-01-01T03:02:25.220522Z"
    },
    "papermill": {
     "duration": 0.041051,
     "end_time": "2025-01-01T03:02:25.223684",
     "exception": false,
     "start_time": "2025-01-01T03:02:25.182633",
     "status": "completed"
    },
    "tags": []
   },
   "outputs": [],
   "source": [
    "# Identify categorical columns and convert them to 'category' dtype\n",
    "categorical_columns = df.select_dtypes(include='object').columns\n",
    "\n",
    "# Assign categorical data to DataFrames\n",
    "df[categorical_columns] = df[categorical_columns].astype('category')\n"
   ]
  },
  {
   "cell_type": "code",
   "execution_count": 8,
   "id": "c9a72ca6",
   "metadata": {
    "execution": {
     "iopub.execute_input": "2025-01-01T03:02:25.233526Z",
     "iopub.status.busy": "2025-01-01T03:02:25.233114Z",
     "iopub.status.idle": "2025-01-01T03:02:25.258031Z",
     "shell.execute_reply": "2025-01-01T03:02:25.256815Z"
    },
    "papermill": {
     "duration": 0.031778,
     "end_time": "2025-01-01T03:02:25.259806",
     "exception": false,
     "start_time": "2025-01-01T03:02:25.228028",
     "status": "completed"
    },
    "tags": []
   },
   "outputs": [
    {
     "name": "stdout",
     "output_type": "stream",
     "text": [
      "<class 'pandas.core.frame.DataFrame'>\n",
      "RangeIndex: 38444 entries, 0 to 38443\n",
      "Data columns (total 23 columns):\n",
      " #   Column                       Non-Null Count  Dtype   \n",
      "---  ------                       --------------  -----   \n",
      " 0   Field of Study               38444 non-null  category\n",
      " 1   Current Occupation           38444 non-null  category\n",
      " 2   Age                          38444 non-null  int64   \n",
      " 3   Gender                       38444 non-null  category\n",
      " 4   Years of Experience          38444 non-null  int64   \n",
      " 5   Education Level              38444 non-null  category\n",
      " 6   Industry Growth Rate         38444 non-null  category\n",
      " 7   Job Satisfaction             38444 non-null  int64   \n",
      " 8   Work-Life Balance            38444 non-null  int64   \n",
      " 9   Job Opportunities            38444 non-null  int64   \n",
      " 10  Salary                       38444 non-null  int64   \n",
      " 11  Job Security                 38444 non-null  int64   \n",
      " 12  Career Change Interest       38444 non-null  int64   \n",
      " 13  Skills Gap                   38444 non-null  int64   \n",
      " 14  Family Influence             38444 non-null  category\n",
      " 15  Mentorship Available         38444 non-null  int64   \n",
      " 16  Certifications               38444 non-null  int64   \n",
      " 17  Freelancing Experience       38444 non-null  int64   \n",
      " 18  Geographic Mobility          38444 non-null  int64   \n",
      " 19  Professional Networks        38444 non-null  int64   \n",
      " 20  Career Change Events         38444 non-null  int64   \n",
      " 21  Technology Adoption          38444 non-null  int64   \n",
      " 22  Likely to Change Occupation  38444 non-null  int64   \n",
      "dtypes: category(6), int64(17)\n",
      "memory usage: 5.2 MB\n"
     ]
    }
   ],
   "source": [
    "df.info()"
   ]
  },
  {
   "cell_type": "markdown",
   "id": "5bc24e54",
   "metadata": {
    "papermill": {
     "duration": 0.003873,
     "end_time": "2025-01-01T03:02:25.267955",
     "exception": false,
     "start_time": "2025-01-01T03:02:25.264082",
     "status": "completed"
    },
    "tags": []
   },
   "source": [
    "## Exploratory Data Analysis"
   ]
  },
  {
   "cell_type": "markdown",
   "id": "b4896664",
   "metadata": {
    "papermill": {
     "duration": 0.003748,
     "end_time": "2025-01-01T03:02:25.275892",
     "exception": false,
     "start_time": "2025-01-01T03:02:25.272144",
     "status": "completed"
    },
    "tags": []
   },
   "source": [
    "### Essential Steps for EDA in Pandas\n",
    "\n",
    "**Inspect the Dataset**:\n",
    "\n",
    "`df.head()`: View the first few rows to get a glimpse of the data structure.\n",
    "\n",
    "`df.info()`: Get an overview of column data types, non-null counts, and memory usage.\n",
    "\n",
    "`df.describe(include='all')`: Summarize numerical and categorical columns, including count, mean, standard deviation, and unique values.\n",
    "\n",
    "`df.shape`: Check the number of rows and columns.\n",
    "\n",
    "**Check for Missing Values**:\n",
    "\n",
    "`df.isnull().sum()`: Count missing values in each column.\n",
    "\n",
    "`df.isnull().mean()`: Check the proportion of missing values.\n",
    "\n",
    "**Understand Data Types**:\n",
    "\n",
    "`df.dtypes`: Confirm data types for each column.\n",
    "\n",
    "Use `pd.to_datetime()` or `astype()` to convert columns to appropriate types if needed (e.g., dates or categories).\n",
    "\n",
    "**Explore Value Distributions**:\n",
    "\n",
    "`df['column'].value_counts()`: Count occurrences of unique values in categorical columns.\n",
    "\n",
    "`df.hist() or sns.histplot()`: Check distributions for numerical columns.\n",
    "\n",
    "**Identify and Handle Duplicates**:\n",
    "\n",
    "`df.duplicated().sum()`: Count duplicate rows.\n",
    "\n",
    "`df.drop_duplicates()`: Drop duplicates if necessary.\n",
    "\n",
    "**Check for Outliers**:\n",
    "\n",
    "- Use visualization tools like box plots (`sns.boxplot()`).\n",
    "- Use statistical techniques (e.g., IQR or z-scores).\n",
    "\n",
    "**Analyze Relationships**:\n",
    "\n",
    "`df.corr()`: Examine correlation between numerical features.\n",
    "\n",
    "- Visualization tools like scatter plots, heatmaps, or pair plots.\n",
    "\n",
    "- Check for Data Imbalances (if applicable):\n",
    "\n",
    "- For target variables, especially in classification tasks, use `value_counts()` to check for class imbalances."
   ]
  },
  {
   "cell_type": "code",
   "execution_count": null,
   "id": "4767023b",
   "metadata": {
    "papermill": {
     "duration": 0.003694,
     "end_time": "2025-01-01T03:02:25.283578",
     "exception": false,
     "start_time": "2025-01-01T03:02:25.279884",
     "status": "completed"
    },
    "tags": []
   },
   "outputs": [],
   "source": []
  },
  {
   "cell_type": "code",
   "execution_count": null,
   "id": "7eb8e827",
   "metadata": {
    "papermill": {
     "duration": 0.003717,
     "end_time": "2025-01-01T03:02:25.291397",
     "exception": false,
     "start_time": "2025-01-01T03:02:25.287680",
     "status": "completed"
    },
    "tags": []
   },
   "outputs": [],
   "source": []
  },
  {
   "cell_type": "code",
   "execution_count": null,
   "id": "7feb7f38",
   "metadata": {
    "papermill": {
     "duration": 0.003689,
     "end_time": "2025-01-01T03:02:25.299171",
     "exception": false,
     "start_time": "2025-01-01T03:02:25.295482",
     "status": "completed"
    },
    "tags": []
   },
   "outputs": [],
   "source": []
  },
  {
   "cell_type": "code",
   "execution_count": null,
   "id": "4588a85d",
   "metadata": {
    "papermill": {
     "duration": 0.00372,
     "end_time": "2025-01-01T03:02:25.306957",
     "exception": false,
     "start_time": "2025-01-01T03:02:25.303237",
     "status": "completed"
    },
    "tags": []
   },
   "outputs": [],
   "source": []
  }
 ],
 "metadata": {
  "kaggle": {
   "accelerator": "none",
   "dataSources": [
    {
     "datasetId": 6034803,
     "sourceId": 9837805,
     "sourceType": "datasetVersion"
    }
   ],
   "dockerImageVersionId": 30822,
   "isGpuEnabled": false,
   "isInternetEnabled": true,
   "language": "python",
   "sourceType": "notebook"
  },
  "kernelspec": {
   "display_name": "Python 3",
   "language": "python",
   "name": "python3"
  },
  "language_info": {
   "codemirror_mode": {
    "name": "ipython",
    "version": 3
   },
   "file_extension": ".py",
   "mimetype": "text/x-python",
   "name": "python",
   "nbconvert_exporter": "python",
   "pygments_lexer": "ipython3",
   "version": "3.10.12"
  },
  "papermill": {
   "default_parameters": {},
   "duration": 5.515573,
   "end_time": "2025-01-01T03:02:26.034118",
   "environment_variables": {},
   "exception": null,
   "input_path": "__notebook__.ipynb",
   "output_path": "__notebook__.ipynb",
   "parameters": {},
   "start_time": "2025-01-01T03:02:20.518545",
   "version": "2.6.0"
  }
 },
 "nbformat": 4,
 "nbformat_minor": 5
}
