{
 "cells": [
  {
   "cell_type": "code",
   "execution_count": 1,
   "id": "b36d2702",
   "metadata": {
    "_cell_guid": "b1076dfc-b9ad-4769-8c92-a6c4dae69d19",
    "_uuid": "8f2839f25d086af736a60e9eeb907d3b93b6e0e5",
    "execution": {
     "iopub.execute_input": "2025-01-01T05:50:19.274210Z",
     "iopub.status.busy": "2025-01-01T05:50:19.273789Z",
     "iopub.status.idle": "2025-01-01T05:50:19.672776Z",
     "shell.execute_reply": "2025-01-01T05:50:19.671642Z"
    },
    "papermill": {
     "duration": 0.408835,
     "end_time": "2025-01-01T05:50:19.674931",
     "exception": false,
     "start_time": "2025-01-01T05:50:19.266096",
     "status": "completed"
    },
    "tags": []
   },
   "outputs": [
    {
     "name": "stdout",
     "output_type": "stream",
     "text": [
      "/kaggle/input/field-of-study-vs-occupation/career_change_prediction_dataset.csv\n"
     ]
    }
   ],
   "source": [
    "# This Python 3 environment comes with many helpful analytics libraries installed\n",
    "# It is defined by the kaggle/python Docker image: https://github.com/kaggle/docker-python\n",
    "# For example, here's several helpful packages to load\n",
    "\n",
    "import numpy as np # linear algebra\n",
    "import pandas as pd # data processing, CSV file I/O (e.g. pd.read_csv)\n",
    "\n",
    "# Input data files are available in the read-only \"../input/\" directory\n",
    "# For example, running this (by clicking run or pressing Shift+Enter) will list all files under the input directory\n",
    "\n",
    "import os\n",
    "for dirname, _, filenames in os.walk('/kaggle/input'):\n",
    "    for filename in filenames:\n",
    "        print(os.path.join(dirname, filename))\n",
    "\n",
    "# You can write up to 20GB to the current directory (/kaggle/working/) that gets preserved as output when you create a version using \"Save & Run All\" \n",
    "# You can also write temporary files to /kaggle/temp/, but they won't be saved outside of the current session"
   ]
  },
  {
   "cell_type": "code",
   "execution_count": 2,
   "id": "e218f4ef",
   "metadata": {
    "execution": {
     "iopub.execute_input": "2025-01-01T05:50:19.688112Z",
     "iopub.status.busy": "2025-01-01T05:50:19.687640Z",
     "iopub.status.idle": "2025-01-01T05:50:21.294246Z",
     "shell.execute_reply": "2025-01-01T05:50:21.293022Z"
    },
    "papermill": {
     "duration": 1.61532,
     "end_time": "2025-01-01T05:50:21.296438",
     "exception": false,
     "start_time": "2025-01-01T05:50:19.681118",
     "status": "completed"
    },
    "tags": []
   },
   "outputs": [],
   "source": [
    "import warnings\n",
    "warnings.filterwarnings('ignore')\n",
    "import matplotlib.pyplot as plt\n",
    "import seaborn as sns\n",
    "import pandas as pd\n",
    "import numpy as np"
   ]
  },
  {
   "cell_type": "code",
   "execution_count": 3,
   "id": "03a13de9",
   "metadata": {
    "execution": {
     "iopub.execute_input": "2025-01-01T05:50:21.309625Z",
     "iopub.status.busy": "2025-01-01T05:50:21.309158Z",
     "iopub.status.idle": "2025-01-01T05:50:21.482290Z",
     "shell.execute_reply": "2025-01-01T05:50:21.481451Z"
    },
    "papermill": {
     "duration": 0.181709,
     "end_time": "2025-01-01T05:50:21.484255",
     "exception": false,
     "start_time": "2025-01-01T05:50:21.302546",
     "status": "completed"
    },
    "tags": []
   },
   "outputs": [],
   "source": [
    "# Create function to load a new DataFrame\n",
    "def load_new_dataframe(filename):\n",
    "    try: \n",
    "        df = pd.read_csv(filename)\n",
    "    except: \n",
    "        print(\"Unable to load {filename}! Please check file location and try again!\")\n",
    "    \n",
    "    return df\n",
    "    \n",
    "df = load_new_dataframe(\"/kaggle/input/field-of-study-vs-occupation/career_change_prediction_dataset.csv\")\n"
   ]
  },
  {
   "cell_type": "markdown",
   "id": "995e72c7",
   "metadata": {
    "papermill": {
     "duration": 0.005484,
     "end_time": "2025-01-01T05:50:21.495841",
     "exception": false,
     "start_time": "2025-01-01T05:50:21.490357",
     "status": "completed"
    },
    "tags": []
   },
   "source": [
    "## Data Preparation"
   ]
  },
  {
   "cell_type": "code",
   "execution_count": 4,
   "id": "c062b583",
   "metadata": {
    "execution": {
     "iopub.execute_input": "2025-01-01T05:50:21.508288Z",
     "iopub.status.busy": "2025-01-01T05:50:21.507936Z",
     "iopub.status.idle": "2025-01-01T05:50:21.533473Z",
     "shell.execute_reply": "2025-01-01T05:50:21.532240Z"
    },
    "papermill": {
     "duration": 0.033926,
     "end_time": "2025-01-01T05:50:21.535388",
     "exception": false,
     "start_time": "2025-01-01T05:50:21.501462",
     "status": "completed"
    },
    "tags": []
   },
   "outputs": [
    {
     "data": {
      "text/plain": [
       "Field of Study                    0\n",
       "Current Occupation                0\n",
       "Age                               0\n",
       "Gender                            0\n",
       "Years of Experience               0\n",
       "Education Level                   0\n",
       "Industry Growth Rate              0\n",
       "Job Satisfaction                  0\n",
       "Work-Life Balance                 0\n",
       "Job Opportunities                 0\n",
       "Salary                            0\n",
       "Job Security                      0\n",
       "Career Change Interest            0\n",
       "Skills Gap                        0\n",
       "Family Influence               9632\n",
       "Mentorship Available              0\n",
       "Certifications                    0\n",
       "Freelancing Experience            0\n",
       "Geographic Mobility               0\n",
       "Professional Networks             0\n",
       "Career Change Events              0\n",
       "Technology Adoption               0\n",
       "Likely to Change Occupation       0\n",
       "dtype: int64"
      ]
     },
     "execution_count": 4,
     "metadata": {},
     "output_type": "execute_result"
    }
   ],
   "source": [
    "# Count the number of null values\n",
    "df.isnull().sum()"
   ]
  },
  {
   "cell_type": "code",
   "execution_count": 5,
   "id": "06f0f667",
   "metadata": {
    "execution": {
     "iopub.execute_input": "2025-01-01T05:50:21.548705Z",
     "iopub.status.busy": "2025-01-01T05:50:21.548314Z",
     "iopub.status.idle": "2025-01-01T05:50:21.568692Z",
     "shell.execute_reply": "2025-01-01T05:50:21.567695Z"
    },
    "papermill": {
     "duration": 0.028745,
     "end_time": "2025-01-01T05:50:21.570357",
     "exception": false,
     "start_time": "2025-01-01T05:50:21.541612",
     "status": "completed"
    },
    "tags": []
   },
   "outputs": [
    {
     "data": {
      "text/plain": [
       "Field of Study                 0.000000\n",
       "Current Occupation             0.000000\n",
       "Age                            0.000000\n",
       "Gender                         0.000000\n",
       "Years of Experience            0.000000\n",
       "Education Level                0.000000\n",
       "Industry Growth Rate           0.000000\n",
       "Job Satisfaction               0.000000\n",
       "Work-Life Balance              0.000000\n",
       "Job Opportunities              0.000000\n",
       "Salary                         0.000000\n",
       "Job Security                   0.000000\n",
       "Career Change Interest         0.000000\n",
       "Skills Gap                     0.000000\n",
       "Family Influence               0.250546\n",
       "Mentorship Available           0.000000\n",
       "Certifications                 0.000000\n",
       "Freelancing Experience         0.000000\n",
       "Geographic Mobility            0.000000\n",
       "Professional Networks          0.000000\n",
       "Career Change Events           0.000000\n",
       "Technology Adoption            0.000000\n",
       "Likely to Change Occupation    0.000000\n",
       "dtype: float64"
      ]
     },
     "execution_count": 5,
     "metadata": {},
     "output_type": "execute_result"
    }
   ],
   "source": [
    "# Check the proportion of missing values.\n",
    "df.isnull().mean()"
   ]
  },
  {
   "cell_type": "code",
   "execution_count": 6,
   "id": "30fd5bb5",
   "metadata": {
    "execution": {
     "iopub.execute_input": "2025-01-01T05:50:21.584008Z",
     "iopub.status.busy": "2025-01-01T05:50:21.583632Z",
     "iopub.status.idle": "2025-01-01T05:50:21.592902Z",
     "shell.execute_reply": "2025-01-01T05:50:21.591610Z"
    },
    "papermill": {
     "duration": 0.017906,
     "end_time": "2025-01-01T05:50:21.594679",
     "exception": false,
     "start_time": "2025-01-01T05:50:21.576773",
     "status": "completed"
    },
    "tags": []
   },
   "outputs": [],
   "source": [
    "# Impute missing categorical values\n",
    "df['Family Influence'].fillna('Unknown', inplace=True)"
   ]
  },
  {
   "cell_type": "code",
   "execution_count": 7,
   "id": "df995b96",
   "metadata": {
    "execution": {
     "iopub.execute_input": "2025-01-01T05:50:21.607446Z",
     "iopub.status.busy": "2025-01-01T05:50:21.607104Z",
     "iopub.status.idle": "2025-01-01T05:50:21.654705Z",
     "shell.execute_reply": "2025-01-01T05:50:21.653648Z"
    },
    "papermill": {
     "duration": 0.05606,
     "end_time": "2025-01-01T05:50:21.656636",
     "exception": false,
     "start_time": "2025-01-01T05:50:21.600576",
     "status": "completed"
    },
    "tags": []
   },
   "outputs": [],
   "source": [
    "# Identify categorical columns and convert them to 'category' dtype\n",
    "categorical_columns = df.select_dtypes(include='object').columns\n",
    "\n",
    "# Identify integer columns and convert them to 'int32' dtype\n",
    "int_columns = df.select_dtypes(include='int64').columns\n",
    "\n",
    "# Assign categorical data to DataFrames\n",
    "df[categorical_columns] = df[categorical_columns].astype('category')\n",
    "\n",
    "# Assign integer data to DataFrames\n",
    "df[int_columns] = df[int_columns].astype('int32')\n"
   ]
  },
  {
   "cell_type": "markdown",
   "id": "b53b1eba",
   "metadata": {
    "papermill": {
     "duration": 0.005849,
     "end_time": "2025-01-01T05:50:21.668810",
     "exception": false,
     "start_time": "2025-01-01T05:50:21.662961",
     "status": "completed"
    },
    "tags": []
   },
   "source": [
    "# Exploratory Data Analysis\n",
    "\n",
    "## Inspect the Dataset"
   ]
  },
  {
   "cell_type": "code",
   "execution_count": 8,
   "id": "008d7711",
   "metadata": {
    "execution": {
     "iopub.execute_input": "2025-01-01T05:50:21.681953Z",
     "iopub.status.busy": "2025-01-01T05:50:21.681535Z",
     "iopub.status.idle": "2025-01-01T05:50:21.706908Z",
     "shell.execute_reply": "2025-01-01T05:50:21.705819Z"
    },
    "papermill": {
     "duration": 0.033863,
     "end_time": "2025-01-01T05:50:21.708588",
     "exception": false,
     "start_time": "2025-01-01T05:50:21.674725",
     "status": "completed"
    },
    "tags": []
   },
   "outputs": [
    {
     "data": {
      "text/html": [
       "<div>\n",
       "<style scoped>\n",
       "    .dataframe tbody tr th:only-of-type {\n",
       "        vertical-align: middle;\n",
       "    }\n",
       "\n",
       "    .dataframe tbody tr th {\n",
       "        vertical-align: top;\n",
       "    }\n",
       "\n",
       "    .dataframe thead th {\n",
       "        text-align: right;\n",
       "    }\n",
       "</style>\n",
       "<table border=\"1\" class=\"dataframe\">\n",
       "  <thead>\n",
       "    <tr style=\"text-align: right;\">\n",
       "      <th></th>\n",
       "      <th>Field of Study</th>\n",
       "      <th>Current Occupation</th>\n",
       "      <th>Age</th>\n",
       "      <th>Gender</th>\n",
       "      <th>Years of Experience</th>\n",
       "      <th>Education Level</th>\n",
       "      <th>Industry Growth Rate</th>\n",
       "      <th>Job Satisfaction</th>\n",
       "      <th>Work-Life Balance</th>\n",
       "      <th>Job Opportunities</th>\n",
       "      <th>...</th>\n",
       "      <th>Skills Gap</th>\n",
       "      <th>Family Influence</th>\n",
       "      <th>Mentorship Available</th>\n",
       "      <th>Certifications</th>\n",
       "      <th>Freelancing Experience</th>\n",
       "      <th>Geographic Mobility</th>\n",
       "      <th>Professional Networks</th>\n",
       "      <th>Career Change Events</th>\n",
       "      <th>Technology Adoption</th>\n",
       "      <th>Likely to Change Occupation</th>\n",
       "    </tr>\n",
       "  </thead>\n",
       "  <tbody>\n",
       "    <tr>\n",
       "      <th>0</th>\n",
       "      <td>Medicine</td>\n",
       "      <td>Business Analyst</td>\n",
       "      <td>48</td>\n",
       "      <td>Male</td>\n",
       "      <td>7</td>\n",
       "      <td>High School</td>\n",
       "      <td>High</td>\n",
       "      <td>7</td>\n",
       "      <td>10</td>\n",
       "      <td>83</td>\n",
       "      <td>...</td>\n",
       "      <td>8</td>\n",
       "      <td>High</td>\n",
       "      <td>0</td>\n",
       "      <td>0</td>\n",
       "      <td>0</td>\n",
       "      <td>1</td>\n",
       "      <td>2</td>\n",
       "      <td>0</td>\n",
       "      <td>1</td>\n",
       "      <td>0</td>\n",
       "    </tr>\n",
       "    <tr>\n",
       "      <th>1</th>\n",
       "      <td>Education</td>\n",
       "      <td>Economist</td>\n",
       "      <td>44</td>\n",
       "      <td>Male</td>\n",
       "      <td>26</td>\n",
       "      <td>Master's</td>\n",
       "      <td>Low</td>\n",
       "      <td>10</td>\n",
       "      <td>3</td>\n",
       "      <td>55</td>\n",
       "      <td>...</td>\n",
       "      <td>3</td>\n",
       "      <td>Medium</td>\n",
       "      <td>0</td>\n",
       "      <td>0</td>\n",
       "      <td>1</td>\n",
       "      <td>1</td>\n",
       "      <td>2</td>\n",
       "      <td>1</td>\n",
       "      <td>9</td>\n",
       "      <td>0</td>\n",
       "    </tr>\n",
       "    <tr>\n",
       "      <th>2</th>\n",
       "      <td>Education</td>\n",
       "      <td>Biologist</td>\n",
       "      <td>21</td>\n",
       "      <td>Female</td>\n",
       "      <td>27</td>\n",
       "      <td>Master's</td>\n",
       "      <td>Low</td>\n",
       "      <td>8</td>\n",
       "      <td>3</td>\n",
       "      <td>78</td>\n",
       "      <td>...</td>\n",
       "      <td>4</td>\n",
       "      <td>Low</td>\n",
       "      <td>0</td>\n",
       "      <td>0</td>\n",
       "      <td>0</td>\n",
       "      <td>0</td>\n",
       "      <td>2</td>\n",
       "      <td>1</td>\n",
       "      <td>2</td>\n",
       "      <td>0</td>\n",
       "    </tr>\n",
       "    <tr>\n",
       "      <th>3</th>\n",
       "      <td>Education</td>\n",
       "      <td>Business Analyst</td>\n",
       "      <td>33</td>\n",
       "      <td>Male</td>\n",
       "      <td>14</td>\n",
       "      <td>PhD</td>\n",
       "      <td>Medium</td>\n",
       "      <td>7</td>\n",
       "      <td>9</td>\n",
       "      <td>62</td>\n",
       "      <td>...</td>\n",
       "      <td>2</td>\n",
       "      <td>Medium</td>\n",
       "      <td>1</td>\n",
       "      <td>0</td>\n",
       "      <td>0</td>\n",
       "      <td>0</td>\n",
       "      <td>9</td>\n",
       "      <td>0</td>\n",
       "      <td>1</td>\n",
       "      <td>0</td>\n",
       "    </tr>\n",
       "    <tr>\n",
       "      <th>4</th>\n",
       "      <td>Arts</td>\n",
       "      <td>Doctor</td>\n",
       "      <td>28</td>\n",
       "      <td>Female</td>\n",
       "      <td>0</td>\n",
       "      <td>PhD</td>\n",
       "      <td>Low</td>\n",
       "      <td>3</td>\n",
       "      <td>1</td>\n",
       "      <td>8</td>\n",
       "      <td>...</td>\n",
       "      <td>5</td>\n",
       "      <td>Low</td>\n",
       "      <td>0</td>\n",
       "      <td>0</td>\n",
       "      <td>1</td>\n",
       "      <td>0</td>\n",
       "      <td>2</td>\n",
       "      <td>0</td>\n",
       "      <td>7</td>\n",
       "      <td>1</td>\n",
       "    </tr>\n",
       "  </tbody>\n",
       "</table>\n",
       "<p>5 rows × 23 columns</p>\n",
       "</div>"
      ],
      "text/plain": [
       "  Field of Study Current Occupation  Age  Gender  Years of Experience  \\\n",
       "0       Medicine   Business Analyst   48    Male                    7   \n",
       "1      Education          Economist   44    Male                   26   \n",
       "2      Education          Biologist   21  Female                   27   \n",
       "3      Education   Business Analyst   33    Male                   14   \n",
       "4           Arts             Doctor   28  Female                    0   \n",
       "\n",
       "  Education Level Industry Growth Rate  Job Satisfaction  Work-Life Balance  \\\n",
       "0     High School                 High                 7                 10   \n",
       "1        Master's                  Low                10                  3   \n",
       "2        Master's                  Low                 8                  3   \n",
       "3             PhD               Medium                 7                  9   \n",
       "4             PhD                  Low                 3                  1   \n",
       "\n",
       "   Job Opportunities  ...  Skills Gap  Family Influence  Mentorship Available  \\\n",
       "0                 83  ...           8              High                     0   \n",
       "1                 55  ...           3            Medium                     0   \n",
       "2                 78  ...           4               Low                     0   \n",
       "3                 62  ...           2            Medium                     1   \n",
       "4                  8  ...           5               Low                     0   \n",
       "\n",
       "   Certifications Freelancing Experience  Geographic Mobility  \\\n",
       "0               0                      0                    1   \n",
       "1               0                      1                    1   \n",
       "2               0                      0                    0   \n",
       "3               0                      0                    0   \n",
       "4               0                      1                    0   \n",
       "\n",
       "   Professional Networks  Career Change Events  Technology Adoption  \\\n",
       "0                      2                     0                    1   \n",
       "1                      2                     1                    9   \n",
       "2                      2                     1                    2   \n",
       "3                      9                     0                    1   \n",
       "4                      2                     0                    7   \n",
       "\n",
       "   Likely to Change Occupation  \n",
       "0                            0  \n",
       "1                            0  \n",
       "2                            0  \n",
       "3                            0  \n",
       "4                            1  \n",
       "\n",
       "[5 rows x 23 columns]"
      ]
     },
     "execution_count": 8,
     "metadata": {},
     "output_type": "execute_result"
    }
   ],
   "source": [
    "# Display the first 5 rows of data\n",
    "df.head()"
   ]
  },
  {
   "cell_type": "code",
   "execution_count": 9,
   "id": "395fda4b",
   "metadata": {
    "execution": {
     "iopub.execute_input": "2025-01-01T05:50:21.722446Z",
     "iopub.status.busy": "2025-01-01T05:50:21.722028Z",
     "iopub.status.idle": "2025-01-01T05:50:21.748643Z",
     "shell.execute_reply": "2025-01-01T05:50:21.747216Z"
    },
    "papermill": {
     "duration": 0.035802,
     "end_time": "2025-01-01T05:50:21.750792",
     "exception": false,
     "start_time": "2025-01-01T05:50:21.714990",
     "status": "completed"
    },
    "tags": []
   },
   "outputs": [
    {
     "name": "stdout",
     "output_type": "stream",
     "text": [
      "<class 'pandas.core.frame.DataFrame'>\n",
      "RangeIndex: 38444 entries, 0 to 38443\n",
      "Data columns (total 23 columns):\n",
      " #   Column                       Non-Null Count  Dtype   \n",
      "---  ------                       --------------  -----   \n",
      " 0   Field of Study               38444 non-null  category\n",
      " 1   Current Occupation           38444 non-null  category\n",
      " 2   Age                          38444 non-null  int32   \n",
      " 3   Gender                       38444 non-null  category\n",
      " 4   Years of Experience          38444 non-null  int32   \n",
      " 5   Education Level              38444 non-null  category\n",
      " 6   Industry Growth Rate         38444 non-null  category\n",
      " 7   Job Satisfaction             38444 non-null  int32   \n",
      " 8   Work-Life Balance            38444 non-null  int32   \n",
      " 9   Job Opportunities            38444 non-null  int32   \n",
      " 10  Salary                       38444 non-null  int32   \n",
      " 11  Job Security                 38444 non-null  int32   \n",
      " 12  Career Change Interest       38444 non-null  int32   \n",
      " 13  Skills Gap                   38444 non-null  int32   \n",
      " 14  Family Influence             38444 non-null  category\n",
      " 15  Mentorship Available         38444 non-null  int32   \n",
      " 16  Certifications               38444 non-null  int32   \n",
      " 17  Freelancing Experience       38444 non-null  int32   \n",
      " 18  Geographic Mobility          38444 non-null  int32   \n",
      " 19  Professional Networks        38444 non-null  int32   \n",
      " 20  Career Change Events         38444 non-null  int32   \n",
      " 21  Technology Adoption          38444 non-null  int32   \n",
      " 22  Likely to Change Occupation  38444 non-null  int32   \n",
      "dtypes: category(6), int32(17)\n",
      "memory usage: 2.7 MB\n"
     ]
    }
   ],
   "source": [
    "# Display non-null values and data types\n",
    "df.info()"
   ]
  },
  {
   "cell_type": "code",
   "execution_count": 10,
   "id": "95175103",
   "metadata": {
    "execution": {
     "iopub.execute_input": "2025-01-01T05:50:21.765424Z",
     "iopub.status.busy": "2025-01-01T05:50:21.765055Z",
     "iopub.status.idle": "2025-01-01T05:50:21.835978Z",
     "shell.execute_reply": "2025-01-01T05:50:21.834756Z"
    },
    "papermill": {
     "duration": 0.080068,
     "end_time": "2025-01-01T05:50:21.837728",
     "exception": false,
     "start_time": "2025-01-01T05:50:21.757660",
     "status": "completed"
    },
    "tags": []
   },
   "outputs": [
    {
     "data": {
      "text/html": [
       "<div>\n",
       "<style scoped>\n",
       "    .dataframe tbody tr th:only-of-type {\n",
       "        vertical-align: middle;\n",
       "    }\n",
       "\n",
       "    .dataframe tbody tr th {\n",
       "        vertical-align: top;\n",
       "    }\n",
       "\n",
       "    .dataframe thead th {\n",
       "        text-align: right;\n",
       "    }\n",
       "</style>\n",
       "<table border=\"1\" class=\"dataframe\">\n",
       "  <thead>\n",
       "    <tr style=\"text-align: right;\">\n",
       "      <th></th>\n",
       "      <th>Age</th>\n",
       "      <th>Years of Experience</th>\n",
       "      <th>Job Satisfaction</th>\n",
       "      <th>Work-Life Balance</th>\n",
       "      <th>Job Opportunities</th>\n",
       "      <th>Salary</th>\n",
       "      <th>Job Security</th>\n",
       "      <th>Career Change Interest</th>\n",
       "      <th>Skills Gap</th>\n",
       "      <th>Mentorship Available</th>\n",
       "      <th>Certifications</th>\n",
       "      <th>Freelancing Experience</th>\n",
       "      <th>Geographic Mobility</th>\n",
       "      <th>Professional Networks</th>\n",
       "      <th>Career Change Events</th>\n",
       "      <th>Technology Adoption</th>\n",
       "      <th>Likely to Change Occupation</th>\n",
       "    </tr>\n",
       "  </thead>\n",
       "  <tbody>\n",
       "    <tr>\n",
       "      <th>count</th>\n",
       "      <td>38444.000000</td>\n",
       "      <td>38444.000000</td>\n",
       "      <td>38444.000000</td>\n",
       "      <td>38444.000000</td>\n",
       "      <td>38444.000000</td>\n",
       "      <td>38444.000000</td>\n",
       "      <td>38444.000000</td>\n",
       "      <td>38444.000000</td>\n",
       "      <td>38444.000000</td>\n",
       "      <td>38444.000000</td>\n",
       "      <td>38444.000000</td>\n",
       "      <td>38444.000000</td>\n",
       "      <td>38444.000000</td>\n",
       "      <td>38444.000000</td>\n",
       "      <td>38444.000000</td>\n",
       "      <td>38444.000000</td>\n",
       "      <td>38444.000000</td>\n",
       "    </tr>\n",
       "    <tr>\n",
       "      <th>mean</th>\n",
       "      <td>39.540422</td>\n",
       "      <td>19.548200</td>\n",
       "      <td>5.489673</td>\n",
       "      <td>5.517012</td>\n",
       "      <td>50.308267</td>\n",
       "      <td>114975.623999</td>\n",
       "      <td>5.481896</td>\n",
       "      <td>0.199901</td>\n",
       "      <td>5.520133</td>\n",
       "      <td>0.299943</td>\n",
       "      <td>0.298616</td>\n",
       "      <td>0.149204</td>\n",
       "      <td>0.303975</td>\n",
       "      <td>5.514098</td>\n",
       "      <td>1.003304</td>\n",
       "      <td>5.487904</td>\n",
       "      <td>0.576553</td>\n",
       "    </tr>\n",
       "    <tr>\n",
       "      <th>std</th>\n",
       "      <td>11.574509</td>\n",
       "      <td>11.552474</td>\n",
       "      <td>2.870407</td>\n",
       "      <td>2.879007</td>\n",
       "      <td>28.877294</td>\n",
       "      <td>48963.725598</td>\n",
       "      <td>2.870640</td>\n",
       "      <td>0.399931</td>\n",
       "      <td>2.870065</td>\n",
       "      <td>0.458239</td>\n",
       "      <td>0.457657</td>\n",
       "      <td>0.356294</td>\n",
       "      <td>0.459978</td>\n",
       "      <td>2.868188</td>\n",
       "      <td>0.815953</td>\n",
       "      <td>2.857247</td>\n",
       "      <td>0.494111</td>\n",
       "    </tr>\n",
       "    <tr>\n",
       "      <th>min</th>\n",
       "      <td>20.000000</td>\n",
       "      <td>0.000000</td>\n",
       "      <td>1.000000</td>\n",
       "      <td>1.000000</td>\n",
       "      <td>1.000000</td>\n",
       "      <td>30005.000000</td>\n",
       "      <td>1.000000</td>\n",
       "      <td>0.000000</td>\n",
       "      <td>1.000000</td>\n",
       "      <td>0.000000</td>\n",
       "      <td>0.000000</td>\n",
       "      <td>0.000000</td>\n",
       "      <td>0.000000</td>\n",
       "      <td>1.000000</td>\n",
       "      <td>0.000000</td>\n",
       "      <td>1.000000</td>\n",
       "      <td>0.000000</td>\n",
       "    </tr>\n",
       "    <tr>\n",
       "      <th>25%</th>\n",
       "      <td>30.000000</td>\n",
       "      <td>10.000000</td>\n",
       "      <td>3.000000</td>\n",
       "      <td>3.000000</td>\n",
       "      <td>25.000000</td>\n",
       "      <td>72701.500000</td>\n",
       "      <td>3.000000</td>\n",
       "      <td>0.000000</td>\n",
       "      <td>3.000000</td>\n",
       "      <td>0.000000</td>\n",
       "      <td>0.000000</td>\n",
       "      <td>0.000000</td>\n",
       "      <td>0.000000</td>\n",
       "      <td>3.000000</td>\n",
       "      <td>0.000000</td>\n",
       "      <td>3.000000</td>\n",
       "      <td>0.000000</td>\n",
       "    </tr>\n",
       "    <tr>\n",
       "      <th>50%</th>\n",
       "      <td>40.000000</td>\n",
       "      <td>20.000000</td>\n",
       "      <td>6.000000</td>\n",
       "      <td>6.000000</td>\n",
       "      <td>50.000000</td>\n",
       "      <td>114861.000000</td>\n",
       "      <td>5.000000</td>\n",
       "      <td>0.000000</td>\n",
       "      <td>6.000000</td>\n",
       "      <td>0.000000</td>\n",
       "      <td>0.000000</td>\n",
       "      <td>0.000000</td>\n",
       "      <td>0.000000</td>\n",
       "      <td>6.000000</td>\n",
       "      <td>1.000000</td>\n",
       "      <td>5.000000</td>\n",
       "      <td>1.000000</td>\n",
       "    </tr>\n",
       "    <tr>\n",
       "      <th>75%</th>\n",
       "      <td>50.000000</td>\n",
       "      <td>30.000000</td>\n",
       "      <td>8.000000</td>\n",
       "      <td>8.000000</td>\n",
       "      <td>75.000000</td>\n",
       "      <td>157241.000000</td>\n",
       "      <td>8.000000</td>\n",
       "      <td>0.000000</td>\n",
       "      <td>8.000000</td>\n",
       "      <td>1.000000</td>\n",
       "      <td>1.000000</td>\n",
       "      <td>0.000000</td>\n",
       "      <td>1.000000</td>\n",
       "      <td>8.000000</td>\n",
       "      <td>2.000000</td>\n",
       "      <td>8.000000</td>\n",
       "      <td>1.000000</td>\n",
       "    </tr>\n",
       "    <tr>\n",
       "      <th>max</th>\n",
       "      <td>59.000000</td>\n",
       "      <td>39.000000</td>\n",
       "      <td>10.000000</td>\n",
       "      <td>10.000000</td>\n",
       "      <td>100.000000</td>\n",
       "      <td>199996.000000</td>\n",
       "      <td>10.000000</td>\n",
       "      <td>1.000000</td>\n",
       "      <td>10.000000</td>\n",
       "      <td>1.000000</td>\n",
       "      <td>1.000000</td>\n",
       "      <td>1.000000</td>\n",
       "      <td>1.000000</td>\n",
       "      <td>10.000000</td>\n",
       "      <td>2.000000</td>\n",
       "      <td>10.000000</td>\n",
       "      <td>1.000000</td>\n",
       "    </tr>\n",
       "  </tbody>\n",
       "</table>\n",
       "</div>"
      ],
      "text/plain": [
       "                Age  Years of Experience  Job Satisfaction  Work-Life Balance  \\\n",
       "count  38444.000000         38444.000000      38444.000000       38444.000000   \n",
       "mean      39.540422            19.548200          5.489673           5.517012   \n",
       "std       11.574509            11.552474          2.870407           2.879007   \n",
       "min       20.000000             0.000000          1.000000           1.000000   \n",
       "25%       30.000000            10.000000          3.000000           3.000000   \n",
       "50%       40.000000            20.000000          6.000000           6.000000   \n",
       "75%       50.000000            30.000000          8.000000           8.000000   \n",
       "max       59.000000            39.000000         10.000000          10.000000   \n",
       "\n",
       "       Job Opportunities         Salary  Job Security  Career Change Interest  \\\n",
       "count       38444.000000   38444.000000  38444.000000            38444.000000   \n",
       "mean           50.308267  114975.623999      5.481896                0.199901   \n",
       "std            28.877294   48963.725598      2.870640                0.399931   \n",
       "min             1.000000   30005.000000      1.000000                0.000000   \n",
       "25%            25.000000   72701.500000      3.000000                0.000000   \n",
       "50%            50.000000  114861.000000      5.000000                0.000000   \n",
       "75%            75.000000  157241.000000      8.000000                0.000000   \n",
       "max           100.000000  199996.000000     10.000000                1.000000   \n",
       "\n",
       "         Skills Gap  Mentorship Available  Certifications  \\\n",
       "count  38444.000000          38444.000000    38444.000000   \n",
       "mean       5.520133              0.299943        0.298616   \n",
       "std        2.870065              0.458239        0.457657   \n",
       "min        1.000000              0.000000        0.000000   \n",
       "25%        3.000000              0.000000        0.000000   \n",
       "50%        6.000000              0.000000        0.000000   \n",
       "75%        8.000000              1.000000        1.000000   \n",
       "max       10.000000              1.000000        1.000000   \n",
       "\n",
       "       Freelancing Experience  Geographic Mobility  Professional Networks  \\\n",
       "count            38444.000000         38444.000000           38444.000000   \n",
       "mean                 0.149204             0.303975               5.514098   \n",
       "std                  0.356294             0.459978               2.868188   \n",
       "min                  0.000000             0.000000               1.000000   \n",
       "25%                  0.000000             0.000000               3.000000   \n",
       "50%                  0.000000             0.000000               6.000000   \n",
       "75%                  0.000000             1.000000               8.000000   \n",
       "max                  1.000000             1.000000              10.000000   \n",
       "\n",
       "       Career Change Events  Technology Adoption  Likely to Change Occupation  \n",
       "count          38444.000000         38444.000000                 38444.000000  \n",
       "mean               1.003304             5.487904                     0.576553  \n",
       "std                0.815953             2.857247                     0.494111  \n",
       "min                0.000000             1.000000                     0.000000  \n",
       "25%                0.000000             3.000000                     0.000000  \n",
       "50%                1.000000             5.000000                     1.000000  \n",
       "75%                2.000000             8.000000                     1.000000  \n",
       "max                2.000000            10.000000                     1.000000  "
      ]
     },
     "metadata": {},
     "output_type": "display_data"
    }
   ],
   "source": [
    "# Display descriptive statistics for numerical dtypes\n",
    "numerical_summary = df.describe()\n",
    "\n",
    "# Print the summary for a quick inspection\n",
    "display(numerical_summary)"
   ]
  },
  {
   "cell_type": "code",
   "execution_count": 11,
   "id": "67e45634",
   "metadata": {
    "execution": {
     "iopub.execute_input": "2025-01-01T05:50:21.852975Z",
     "iopub.status.busy": "2025-01-01T05:50:21.852597Z",
     "iopub.status.idle": "2025-01-01T05:50:21.872728Z",
     "shell.execute_reply": "2025-01-01T05:50:21.871677Z"
    },
    "papermill": {
     "duration": 0.029625,
     "end_time": "2025-01-01T05:50:21.874618",
     "exception": false,
     "start_time": "2025-01-01T05:50:21.844993",
     "status": "completed"
    },
    "tags": []
   },
   "outputs": [
    {
     "data": {
      "text/html": [
       "<div>\n",
       "<style scoped>\n",
       "    .dataframe tbody tr th:only-of-type {\n",
       "        vertical-align: middle;\n",
       "    }\n",
       "\n",
       "    .dataframe tbody tr th {\n",
       "        vertical-align: top;\n",
       "    }\n",
       "\n",
       "    .dataframe thead th {\n",
       "        text-align: right;\n",
       "    }\n",
       "</style>\n",
       "<table border=\"1\" class=\"dataframe\">\n",
       "  <thead>\n",
       "    <tr style=\"text-align: right;\">\n",
       "      <th></th>\n",
       "      <th>Field of Study</th>\n",
       "      <th>Current Occupation</th>\n",
       "      <th>Gender</th>\n",
       "      <th>Education Level</th>\n",
       "      <th>Industry Growth Rate</th>\n",
       "      <th>Family Influence</th>\n",
       "    </tr>\n",
       "  </thead>\n",
       "  <tbody>\n",
       "    <tr>\n",
       "      <th>count</th>\n",
       "      <td>38444</td>\n",
       "      <td>38444</td>\n",
       "      <td>38444</td>\n",
       "      <td>38444</td>\n",
       "      <td>38444</td>\n",
       "      <td>38444</td>\n",
       "    </tr>\n",
       "    <tr>\n",
       "      <th>unique</th>\n",
       "      <td>10</td>\n",
       "      <td>10</td>\n",
       "      <td>2</td>\n",
       "      <td>4</td>\n",
       "      <td>3</td>\n",
       "      <td>4</td>\n",
       "    </tr>\n",
       "    <tr>\n",
       "      <th>top</th>\n",
       "      <td>Medicine</td>\n",
       "      <td>Software Developer</td>\n",
       "      <td>Female</td>\n",
       "      <td>PhD</td>\n",
       "      <td>High</td>\n",
       "      <td>High</td>\n",
       "    </tr>\n",
       "    <tr>\n",
       "      <th>freq</th>\n",
       "      <td>3949</td>\n",
       "      <td>3892</td>\n",
       "      <td>19299</td>\n",
       "      <td>9777</td>\n",
       "      <td>12968</td>\n",
       "      <td>9635</td>\n",
       "    </tr>\n",
       "  </tbody>\n",
       "</table>\n",
       "</div>"
      ],
      "text/plain": [
       "       Field of Study  Current Occupation  Gender Education Level  \\\n",
       "count           38444               38444   38444           38444   \n",
       "unique             10                  10       2               4   \n",
       "top          Medicine  Software Developer  Female             PhD   \n",
       "freq             3949                3892   19299            9777   \n",
       "\n",
       "       Industry Growth Rate Family Influence  \n",
       "count                 38444            38444  \n",
       "unique                    3                4  \n",
       "top                    High             High  \n",
       "freq                  12968             9635  "
      ]
     },
     "metadata": {},
     "output_type": "display_data"
    }
   ],
   "source": [
    "# Describe the categorical columns to get summary statistics (counts, unique, top, freq)\n",
    "categorical_summary = df[categorical_columns].describe()\n",
    "\n",
    "# Print the summary for a quick inspection\n",
    "display(categorical_summary)"
   ]
  },
  {
   "cell_type": "code",
   "execution_count": 12,
   "id": "58c9d0bc",
   "metadata": {
    "execution": {
     "iopub.execute_input": "2025-01-01T05:50:21.889728Z",
     "iopub.status.busy": "2025-01-01T05:50:21.889386Z",
     "iopub.status.idle": "2025-01-01T05:50:21.895408Z",
     "shell.execute_reply": "2025-01-01T05:50:21.894202Z"
    },
    "papermill": {
     "duration": 0.015603,
     "end_time": "2025-01-01T05:50:21.897244",
     "exception": false,
     "start_time": "2025-01-01T05:50:21.881641",
     "status": "completed"
    },
    "tags": []
   },
   "outputs": [
    {
     "data": {
      "text/plain": [
       "(38444, 23)"
      ]
     },
     "execution_count": 12,
     "metadata": {},
     "output_type": "execute_result"
    }
   ],
   "source": [
    "df.shape"
   ]
  },
  {
   "cell_type": "markdown",
   "id": "bd008211",
   "metadata": {
    "papermill": {
     "duration": 0.006645,
     "end_time": "2025-01-01T05:50:21.911034",
     "exception": false,
     "start_time": "2025-01-01T05:50:21.904389",
     "status": "completed"
    },
    "tags": []
   },
   "source": [
    "## Explore Value Distributions\n",
    "\n",
    "### Count occurrences of unique values in categorical columns"
   ]
  },
  {
   "cell_type": "code",
   "execution_count": 13,
   "id": "c2ac39aa",
   "metadata": {
    "execution": {
     "iopub.execute_input": "2025-01-01T05:50:21.926184Z",
     "iopub.status.busy": "2025-01-01T05:50:21.925788Z",
     "iopub.status.idle": "2025-01-01T05:50:21.933746Z",
     "shell.execute_reply": "2025-01-01T05:50:21.932771Z"
    },
    "papermill": {
     "duration": 0.017405,
     "end_time": "2025-01-01T05:50:21.935389",
     "exception": false,
     "start_time": "2025-01-01T05:50:21.917984",
     "status": "completed"
    },
    "tags": []
   },
   "outputs": [
    {
     "data": {
      "text/plain": [
       "Field of Study\n",
       "Medicine                  3949\n",
       "Biology                   3921\n",
       "Business                  3921\n",
       "Education                 3896\n",
       "Mechanical Engineering    3875\n",
       "Law                       3851\n",
       "Computer Science          3826\n",
       "Arts                      3763\n",
       "Economics                 3743\n",
       "Psychology                3699\n",
       "Name: count, dtype: int64"
      ]
     },
     "execution_count": 13,
     "metadata": {},
     "output_type": "execute_result"
    }
   ],
   "source": [
    "# \n",
    "df['Field of Study'].value_counts()"
   ]
  },
  {
   "cell_type": "code",
   "execution_count": 14,
   "id": "bcc05c4b",
   "metadata": {
    "execution": {
     "iopub.execute_input": "2025-01-01T05:50:21.951067Z",
     "iopub.status.busy": "2025-01-01T05:50:21.950695Z",
     "iopub.status.idle": "2025-01-01T05:50:21.958660Z",
     "shell.execute_reply": "2025-01-01T05:50:21.957642Z"
    },
    "papermill": {
     "duration": 0.01788,
     "end_time": "2025-01-01T05:50:21.960523",
     "exception": false,
     "start_time": "2025-01-01T05:50:21.942643",
     "status": "completed"
    },
    "tags": []
   },
   "outputs": [
    {
     "data": {
      "text/plain": [
       "Current Occupation\n",
       "Software Developer     3892\n",
       "Psychologist           3890\n",
       "Doctor                 3888\n",
       "Teacher                3886\n",
       "Artist                 3881\n",
       "Business Analyst       3858\n",
       "Mechanical Engineer    3827\n",
       "Lawyer                 3781\n",
       "Biologist              3774\n",
       "Economist              3767\n",
       "Name: count, dtype: int64"
      ]
     },
     "execution_count": 14,
     "metadata": {},
     "output_type": "execute_result"
    }
   ],
   "source": [
    "# \n",
    "df['Current Occupation'].value_counts()"
   ]
  },
  {
   "cell_type": "code",
   "execution_count": 15,
   "id": "52f1cb48",
   "metadata": {
    "execution": {
     "iopub.execute_input": "2025-01-01T05:50:21.976243Z",
     "iopub.status.busy": "2025-01-01T05:50:21.975837Z",
     "iopub.status.idle": "2025-01-01T05:50:21.984182Z",
     "shell.execute_reply": "2025-01-01T05:50:21.983155Z"
    },
    "papermill": {
     "duration": 0.018258,
     "end_time": "2025-01-01T05:50:21.986040",
     "exception": false,
     "start_time": "2025-01-01T05:50:21.967782",
     "status": "completed"
    },
    "tags": []
   },
   "outputs": [
    {
     "data": {
      "text/plain": [
       "Gender\n",
       "Female    19299\n",
       "Male      19145\n",
       "Name: count, dtype: int64"
      ]
     },
     "execution_count": 15,
     "metadata": {},
     "output_type": "execute_result"
    }
   ],
   "source": [
    "# \n",
    "df['Gender'].value_counts()"
   ]
  },
  {
   "cell_type": "code",
   "execution_count": 16,
   "id": "a7e6bf8a",
   "metadata": {
    "execution": {
     "iopub.execute_input": "2025-01-01T05:50:22.002263Z",
     "iopub.status.busy": "2025-01-01T05:50:22.001897Z",
     "iopub.status.idle": "2025-01-01T05:50:22.010254Z",
     "shell.execute_reply": "2025-01-01T05:50:22.009106Z"
    },
    "papermill": {
     "duration": 0.018359,
     "end_time": "2025-01-01T05:50:22.012005",
     "exception": false,
     "start_time": "2025-01-01T05:50:21.993646",
     "status": "completed"
    },
    "tags": []
   },
   "outputs": [
    {
     "data": {
      "text/plain": [
       "Education Level\n",
       "PhD            9777\n",
       "High School    9623\n",
       "Master's       9597\n",
       "Bachelor's     9447\n",
       "Name: count, dtype: int64"
      ]
     },
     "execution_count": 16,
     "metadata": {},
     "output_type": "execute_result"
    }
   ],
   "source": [
    "# \n",
    "df['Education Level'].value_counts()"
   ]
  },
  {
   "cell_type": "code",
   "execution_count": 17,
   "id": "899f1874",
   "metadata": {
    "execution": {
     "iopub.execute_input": "2025-01-01T05:50:22.027837Z",
     "iopub.status.busy": "2025-01-01T05:50:22.027512Z",
     "iopub.status.idle": "2025-01-01T05:50:22.035977Z",
     "shell.execute_reply": "2025-01-01T05:50:22.034868Z"
    },
    "papermill": {
     "duration": 0.018254,
     "end_time": "2025-01-01T05:50:22.037654",
     "exception": false,
     "start_time": "2025-01-01T05:50:22.019400",
     "status": "completed"
    },
    "tags": []
   },
   "outputs": [
    {
     "data": {
      "text/plain": [
       "Industry Growth Rate\n",
       "High      12968\n",
       "Medium    12884\n",
       "Low       12592\n",
       "Name: count, dtype: int64"
      ]
     },
     "execution_count": 17,
     "metadata": {},
     "output_type": "execute_result"
    }
   ],
   "source": [
    "# \n",
    "df['Industry Growth Rate'].value_counts()"
   ]
  },
  {
   "cell_type": "code",
   "execution_count": 18,
   "id": "c435458a",
   "metadata": {
    "execution": {
     "iopub.execute_input": "2025-01-01T05:50:22.053927Z",
     "iopub.status.busy": "2025-01-01T05:50:22.053560Z",
     "iopub.status.idle": "2025-01-01T05:50:22.061373Z",
     "shell.execute_reply": "2025-01-01T05:50:22.060350Z"
    },
    "papermill": {
     "duration": 0.017774,
     "end_time": "2025-01-01T05:50:22.062909",
     "exception": false,
     "start_time": "2025-01-01T05:50:22.045135",
     "status": "completed"
    },
    "tags": []
   },
   "outputs": [
    {
     "data": {
      "text/plain": [
       "Family Influence\n",
       "High       9635\n",
       "Unknown    9632\n",
       "Medium     9618\n",
       "Low        9559\n",
       "Name: count, dtype: int64"
      ]
     },
     "execution_count": 18,
     "metadata": {},
     "output_type": "execute_result"
    }
   ],
   "source": [
    "# \n",
    "df['Family Influence'].value_counts()"
   ]
  },
  {
   "cell_type": "markdown",
   "id": "66b3bf98",
   "metadata": {
    "papermill": {
     "duration": 0.006968,
     "end_time": "2025-01-01T05:50:22.077659",
     "exception": false,
     "start_time": "2025-01-01T05:50:22.070691",
     "status": "completed"
    },
    "tags": []
   },
   "source": [
    "### Check distributions for numerical columns"
   ]
  },
  {
   "cell_type": "code",
   "execution_count": 19,
   "id": "e8767ccf",
   "metadata": {
    "execution": {
     "iopub.execute_input": "2025-01-01T05:50:22.093565Z",
     "iopub.status.busy": "2025-01-01T05:50:22.093240Z",
     "iopub.status.idle": "2025-01-01T05:50:29.264814Z",
     "shell.execute_reply": "2025-01-01T05:50:29.263624Z"
    },
    "papermill": {
     "duration": 7.184526,
     "end_time": "2025-01-01T05:50:29.269505",
     "exception": false,
     "start_time": "2025-01-01T05:50:22.084979",
     "status": "completed"
    },
    "tags": []
   },
   "outputs": [
    {
     "data": {
      "image/png": "[encoded data removed]",
      "text/plain": [
       "<Figure size 1500x1000 with 18 Axes>"
      ]
     },
     "metadata": {},
     "output_type": "display_data"
    }
   ],
   "source": [
    "# Create subplots: Adjust the size based on the number of columns\n",
    "fig, axes = plt.subplots(nrows=len(int_columns)//3 + 1, ncols=3, figsize=(15, 10))\n",
    "axes = axes.flatten()  # Flatten to make indexing easier\n",
    "\n",
    "# Step 2: Plot each column in a separate subplot\n",
    "for i, column in enumerate(int_columns):\n",
    "    sns.histplot(data=df, x=column, kde=True, bins=20, ax=axes[i])\n",
    "    axes[i].set_title(f'Distribution of {column}')\n",
    "\n",
    "# Step 3: Adjust layout and show plot\n",
    "plt.tight_layout()\n",
    "plt.show()\n"
   ]
  },
  {
   "cell_type": "markdown",
   "id": "1387716b",
   "metadata": {
    "papermill": {
     "duration": 0.012338,
     "end_time": "2025-01-01T05:50:29.294716",
     "exception": false,
     "start_time": "2025-01-01T05:50:29.282378",
     "status": "completed"
    },
    "tags": []
   },
   "source": [
    "## Identify and Handle Duplicates"
   ]
  },
  {
   "cell_type": "code",
   "execution_count": 20,
   "id": "2ce482e3",
   "metadata": {
    "execution": {
     "iopub.execute_input": "2025-01-01T05:50:29.321297Z",
     "iopub.status.busy": "2025-01-01T05:50:29.320819Z",
     "iopub.status.idle": "2025-01-01T05:50:29.348753Z",
     "shell.execute_reply": "2025-01-01T05:50:29.347696Z"
    },
    "papermill": {
     "duration": 0.043025,
     "end_time": "2025-01-01T05:50:29.350590",
     "exception": false,
     "start_time": "2025-01-01T05:50:29.307565",
     "status": "completed"
    },
    "tags": []
   },
   "outputs": [
    {
     "data": {
      "text/plain": [
       "0"
      ]
     },
     "execution_count": 20,
     "metadata": {},
     "output_type": "execute_result"
    }
   ],
   "source": [
    "df.duplicated().sum()"
   ]
  },
  {
   "cell_type": "markdown",
   "id": "67155372",
   "metadata": {
    "papermill": {
     "duration": 0.012065,
     "end_time": "2025-01-01T05:50:29.375559",
     "exception": false,
     "start_time": "2025-01-01T05:50:29.363494",
     "status": "completed"
    },
    "tags": []
   },
   "source": [
    "## Check for Outliers"
   ]
  },
  {
   "cell_type": "code",
   "execution_count": 21,
   "id": "b9c26de0",
   "metadata": {
    "execution": {
     "iopub.execute_input": "2025-01-01T05:50:29.401675Z",
     "iopub.status.busy": "2025-01-01T05:50:29.401341Z",
     "iopub.status.idle": "2025-01-01T05:50:29.607516Z",
     "shell.execute_reply": "2025-01-01T05:50:29.606358Z"
    },
    "papermill": {
     "duration": 0.221275,
     "end_time": "2025-01-01T05:50:29.609143",
     "exception": false,
     "start_time": "2025-01-01T05:50:29.387868",
     "status": "completed"
    },
    "tags": []
   },
   "outputs": [
    {
     "data": {
      "image/png": "[encoded data removed]",
      "text/plain": [
       "<Figure size 640x480 with 1 Axes>"
      ]
     },
     "metadata": {},
     "output_type": "display_data"
    }
   ],
   "source": [
    "# Select a subset of columns (e.g., top 5 numerical columns)\n",
    "subset_columns = df.select_dtypes(include='number').columns[:5]\n",
    "\n",
    "# Create the box plot for the selected columns\n",
    "sns.boxplot(data=df[subset_columns])\n",
    "\n",
    "# Rotate the labels if necessary\n",
    "plt.xticks(rotation=45, ha='right')\n",
    "\n",
    "# Add a title and show the plot\n",
    "plt.title('Box Plot for Selected Numerical Features')\n",
    "plt.show()"
   ]
  },
  {
   "cell_type": "markdown",
   "id": "69e76a22",
   "metadata": {
    "papermill": {
     "duration": 0.013144,
     "end_time": "2025-01-01T05:50:29.635747",
     "exception": false,
     "start_time": "2025-01-01T05:50:29.622603",
     "status": "completed"
    },
    "tags": []
   },
   "source": [
    "## Analyze Relationships"
   ]
  },
  {
   "cell_type": "code",
   "execution_count": 22,
   "id": "9d1f93e0",
   "metadata": {
    "execution": {
     "iopub.execute_input": "2025-01-01T05:50:29.664004Z",
     "iopub.status.busy": "2025-01-01T05:50:29.663593Z",
     "iopub.status.idle": "2025-01-01T05:50:29.724186Z",
     "shell.execute_reply": "2025-01-01T05:50:29.723113Z"
    },
    "papermill": {
     "duration": 0.076688,
     "end_time": "2025-01-01T05:50:29.725943",
     "exception": false,
     "start_time": "2025-01-01T05:50:29.649255",
     "status": "completed"
    },
    "tags": []
   },
   "outputs": [
    {
     "data": {
      "text/html": [
       "<div>\n",
       "<style scoped>\n",
       "    .dataframe tbody tr th:only-of-type {\n",
       "        vertical-align: middle;\n",
       "    }\n",
       "\n",
       "    .dataframe tbody tr th {\n",
       "        vertical-align: top;\n",
       "    }\n",
       "\n",
       "    .dataframe thead th {\n",
       "        text-align: right;\n",
       "    }\n",
       "</style>\n",
       "<table border=\"1\" class=\"dataframe\">\n",
       "  <thead>\n",
       "    <tr style=\"text-align: right;\">\n",
       "      <th></th>\n",
       "      <th>Age</th>\n",
       "      <th>Years of Experience</th>\n",
       "      <th>Job Satisfaction</th>\n",
       "      <th>Work-Life Balance</th>\n",
       "      <th>Job Opportunities</th>\n",
       "      <th>Salary</th>\n",
       "      <th>Job Security</th>\n",
       "      <th>Career Change Interest</th>\n",
       "      <th>Skills Gap</th>\n",
       "      <th>Mentorship Available</th>\n",
       "      <th>Certifications</th>\n",
       "      <th>Freelancing Experience</th>\n",
       "      <th>Geographic Mobility</th>\n",
       "      <th>Professional Networks</th>\n",
       "      <th>Career Change Events</th>\n",
       "      <th>Technology Adoption</th>\n",
       "      <th>Likely to Change Occupation</th>\n",
       "    </tr>\n",
       "  </thead>\n",
       "  <tbody>\n",
       "    <tr>\n",
       "      <th>Age</th>\n",
       "      <td>1.000000</td>\n",
       "      <td>0.003682</td>\n",
       "      <td>0.001191</td>\n",
       "      <td>0.004900</td>\n",
       "      <td>0.002576</td>\n",
       "      <td>0.003683</td>\n",
       "      <td>0.005077</td>\n",
       "      <td>-0.001451</td>\n",
       "      <td>-0.002010</td>\n",
       "      <td>-0.008865</td>\n",
       "      <td>0.001223</td>\n",
       "      <td>0.004643</td>\n",
       "      <td>0.005304</td>\n",
       "      <td>0.001481</td>\n",
       "      <td>0.012376</td>\n",
       "      <td>0.002228</td>\n",
       "      <td>-0.005483</td>\n",
       "    </tr>\n",
       "    <tr>\n",
       "      <th>Years of Experience</th>\n",
       "      <td>0.003682</td>\n",
       "      <td>1.000000</td>\n",
       "      <td>-0.005106</td>\n",
       "      <td>-0.003602</td>\n",
       "      <td>0.003335</td>\n",
       "      <td>0.000032</td>\n",
       "      <td>0.005392</td>\n",
       "      <td>0.001245</td>\n",
       "      <td>-0.002583</td>\n",
       "      <td>0.000569</td>\n",
       "      <td>0.001765</td>\n",
       "      <td>0.009426</td>\n",
       "      <td>-0.000868</td>\n",
       "      <td>-0.007943</td>\n",
       "      <td>-0.000153</td>\n",
       "      <td>-0.003327</td>\n",
       "      <td>-0.002004</td>\n",
       "    </tr>\n",
       "    <tr>\n",
       "      <th>Job Satisfaction</th>\n",
       "      <td>0.001191</td>\n",
       "      <td>-0.005106</td>\n",
       "      <td>1.000000</td>\n",
       "      <td>-0.006912</td>\n",
       "      <td>-0.002664</td>\n",
       "      <td>-0.004733</td>\n",
       "      <td>0.003433</td>\n",
       "      <td>0.002444</td>\n",
       "      <td>-0.004738</td>\n",
       "      <td>-0.001393</td>\n",
       "      <td>0.000130</td>\n",
       "      <td>0.006085</td>\n",
       "      <td>-0.005345</td>\n",
       "      <td>0.002986</td>\n",
       "      <td>-0.002479</td>\n",
       "      <td>0.004812</td>\n",
       "      <td>-0.595550</td>\n",
       "    </tr>\n",
       "    <tr>\n",
       "      <th>Work-Life Balance</th>\n",
       "      <td>0.004900</td>\n",
       "      <td>-0.003602</td>\n",
       "      <td>-0.006912</td>\n",
       "      <td>1.000000</td>\n",
       "      <td>-0.008166</td>\n",
       "      <td>0.003372</td>\n",
       "      <td>0.004280</td>\n",
       "      <td>0.006772</td>\n",
       "      <td>-0.009977</td>\n",
       "      <td>0.002964</td>\n",
       "      <td>-0.009581</td>\n",
       "      <td>-0.012060</td>\n",
       "      <td>-0.000625</td>\n",
       "      <td>-0.003680</td>\n",
       "      <td>0.004101</td>\n",
       "      <td>0.007240</td>\n",
       "      <td>0.005768</td>\n",
       "    </tr>\n",
       "    <tr>\n",
       "      <th>Job Opportunities</th>\n",
       "      <td>0.002576</td>\n",
       "      <td>0.003335</td>\n",
       "      <td>-0.002664</td>\n",
       "      <td>-0.008166</td>\n",
       "      <td>1.000000</td>\n",
       "      <td>-0.005110</td>\n",
       "      <td>0.002423</td>\n",
       "      <td>0.008079</td>\n",
       "      <td>0.010529</td>\n",
       "      <td>-0.005596</td>\n",
       "      <td>0.007430</td>\n",
       "      <td>0.002518</td>\n",
       "      <td>0.009805</td>\n",
       "      <td>0.009668</td>\n",
       "      <td>0.006395</td>\n",
       "      <td>0.000701</td>\n",
       "      <td>0.001047</td>\n",
       "    </tr>\n",
       "    <tr>\n",
       "      <th>Salary</th>\n",
       "      <td>0.003683</td>\n",
       "      <td>0.000032</td>\n",
       "      <td>-0.004733</td>\n",
       "      <td>0.003372</td>\n",
       "      <td>-0.005110</td>\n",
       "      <td>1.000000</td>\n",
       "      <td>0.005583</td>\n",
       "      <td>-0.006256</td>\n",
       "      <td>-0.010096</td>\n",
       "      <td>-0.008294</td>\n",
       "      <td>-0.011309</td>\n",
       "      <td>-0.009209</td>\n",
       "      <td>0.006643</td>\n",
       "      <td>0.003041</td>\n",
       "      <td>0.004661</td>\n",
       "      <td>-0.001686</td>\n",
       "      <td>-0.177951</td>\n",
       "    </tr>\n",
       "    <tr>\n",
       "      <th>Job Security</th>\n",
       "      <td>0.005077</td>\n",
       "      <td>0.005392</td>\n",
       "      <td>0.003433</td>\n",
       "      <td>0.004280</td>\n",
       "      <td>0.002423</td>\n",
       "      <td>0.005583</td>\n",
       "      <td>1.000000</td>\n",
       "      <td>-0.008845</td>\n",
       "      <td>-0.000006</td>\n",
       "      <td>0.002259</td>\n",
       "      <td>0.009402</td>\n",
       "      <td>-0.005523</td>\n",
       "      <td>-0.008677</td>\n",
       "      <td>0.000009</td>\n",
       "      <td>0.008083</td>\n",
       "      <td>0.001171</td>\n",
       "      <td>-0.006496</td>\n",
       "    </tr>\n",
       "    <tr>\n",
       "      <th>Career Change Interest</th>\n",
       "      <td>-0.001451</td>\n",
       "      <td>0.001245</td>\n",
       "      <td>0.002444</td>\n",
       "      <td>0.006772</td>\n",
       "      <td>0.008079</td>\n",
       "      <td>-0.006256</td>\n",
       "      <td>-0.008845</td>\n",
       "      <td>1.000000</td>\n",
       "      <td>-0.003654</td>\n",
       "      <td>-0.003273</td>\n",
       "      <td>-0.003534</td>\n",
       "      <td>-0.006140</td>\n",
       "      <td>-0.002127</td>\n",
       "      <td>-0.007866</td>\n",
       "      <td>-0.002980</td>\n",
       "      <td>0.001923</td>\n",
       "      <td>0.428367</td>\n",
       "    </tr>\n",
       "    <tr>\n",
       "      <th>Skills Gap</th>\n",
       "      <td>-0.002010</td>\n",
       "      <td>-0.002583</td>\n",
       "      <td>-0.004738</td>\n",
       "      <td>-0.009977</td>\n",
       "      <td>0.010529</td>\n",
       "      <td>-0.010096</td>\n",
       "      <td>-0.000006</td>\n",
       "      <td>-0.003654</td>\n",
       "      <td>1.000000</td>\n",
       "      <td>0.009975</td>\n",
       "      <td>-0.002458</td>\n",
       "      <td>-0.003446</td>\n",
       "      <td>-0.001976</td>\n",
       "      <td>0.000989</td>\n",
       "      <td>-0.007887</td>\n",
       "      <td>0.001573</td>\n",
       "      <td>0.002096</td>\n",
       "    </tr>\n",
       "    <tr>\n",
       "      <th>Mentorship Available</th>\n",
       "      <td>-0.008865</td>\n",
       "      <td>0.000569</td>\n",
       "      <td>-0.001393</td>\n",
       "      <td>0.002964</td>\n",
       "      <td>-0.005596</td>\n",
       "      <td>-0.008294</td>\n",
       "      <td>0.002259</td>\n",
       "      <td>-0.003273</td>\n",
       "      <td>0.009975</td>\n",
       "      <td>1.000000</td>\n",
       "      <td>-0.001035</td>\n",
       "      <td>0.001996</td>\n",
       "      <td>0.003439</td>\n",
       "      <td>0.000256</td>\n",
       "      <td>0.006464</td>\n",
       "      <td>-0.005047</td>\n",
       "      <td>-0.005082</td>\n",
       "    </tr>\n",
       "    <tr>\n",
       "      <th>Certifications</th>\n",
       "      <td>0.001223</td>\n",
       "      <td>0.001765</td>\n",
       "      <td>0.000130</td>\n",
       "      <td>-0.009581</td>\n",
       "      <td>0.007430</td>\n",
       "      <td>-0.011309</td>\n",
       "      <td>0.009402</td>\n",
       "      <td>-0.003534</td>\n",
       "      <td>-0.002458</td>\n",
       "      <td>-0.001035</td>\n",
       "      <td>1.000000</td>\n",
       "      <td>0.001777</td>\n",
       "      <td>-0.006627</td>\n",
       "      <td>-0.004377</td>\n",
       "      <td>0.004603</td>\n",
       "      <td>0.004214</td>\n",
       "      <td>0.002320</td>\n",
       "    </tr>\n",
       "    <tr>\n",
       "      <th>Freelancing Experience</th>\n",
       "      <td>0.004643</td>\n",
       "      <td>0.009426</td>\n",
       "      <td>0.006085</td>\n",
       "      <td>-0.012060</td>\n",
       "      <td>0.002518</td>\n",
       "      <td>-0.009209</td>\n",
       "      <td>-0.005523</td>\n",
       "      <td>-0.006140</td>\n",
       "      <td>-0.003446</td>\n",
       "      <td>0.001996</td>\n",
       "      <td>0.001777</td>\n",
       "      <td>1.000000</td>\n",
       "      <td>0.002921</td>\n",
       "      <td>-0.007480</td>\n",
       "      <td>-0.002769</td>\n",
       "      <td>0.007701</td>\n",
       "      <td>-0.001641</td>\n",
       "    </tr>\n",
       "    <tr>\n",
       "      <th>Geographic Mobility</th>\n",
       "      <td>0.005304</td>\n",
       "      <td>-0.000868</td>\n",
       "      <td>-0.005345</td>\n",
       "      <td>-0.000625</td>\n",
       "      <td>0.009805</td>\n",
       "      <td>0.006643</td>\n",
       "      <td>-0.008677</td>\n",
       "      <td>-0.002127</td>\n",
       "      <td>-0.001976</td>\n",
       "      <td>0.003439</td>\n",
       "      <td>-0.006627</td>\n",
       "      <td>0.002921</td>\n",
       "      <td>1.000000</td>\n",
       "      <td>0.008621</td>\n",
       "      <td>0.000097</td>\n",
       "      <td>0.002125</td>\n",
       "      <td>-0.001098</td>\n",
       "    </tr>\n",
       "    <tr>\n",
       "      <th>Professional Networks</th>\n",
       "      <td>0.001481</td>\n",
       "      <td>-0.007943</td>\n",
       "      <td>0.002986</td>\n",
       "      <td>-0.003680</td>\n",
       "      <td>0.009668</td>\n",
       "      <td>0.003041</td>\n",
       "      <td>0.000009</td>\n",
       "      <td>-0.007866</td>\n",
       "      <td>0.000989</td>\n",
       "      <td>0.000256</td>\n",
       "      <td>-0.004377</td>\n",
       "      <td>-0.007480</td>\n",
       "      <td>0.008621</td>\n",
       "      <td>1.000000</td>\n",
       "      <td>0.000097</td>\n",
       "      <td>0.002054</td>\n",
       "      <td>-0.001835</td>\n",
       "    </tr>\n",
       "    <tr>\n",
       "      <th>Career Change Events</th>\n",
       "      <td>0.012376</td>\n",
       "      <td>-0.000153</td>\n",
       "      <td>-0.002479</td>\n",
       "      <td>0.004101</td>\n",
       "      <td>0.006395</td>\n",
       "      <td>0.004661</td>\n",
       "      <td>0.008083</td>\n",
       "      <td>-0.002980</td>\n",
       "      <td>-0.007887</td>\n",
       "      <td>0.006464</td>\n",
       "      <td>0.004603</td>\n",
       "      <td>-0.002769</td>\n",
       "      <td>0.000097</td>\n",
       "      <td>0.000097</td>\n",
       "      <td>1.000000</td>\n",
       "      <td>0.004263</td>\n",
       "      <td>0.002825</td>\n",
       "    </tr>\n",
       "    <tr>\n",
       "      <th>Technology Adoption</th>\n",
       "      <td>0.002228</td>\n",
       "      <td>-0.003327</td>\n",
       "      <td>0.004812</td>\n",
       "      <td>0.007240</td>\n",
       "      <td>0.000701</td>\n",
       "      <td>-0.001686</td>\n",
       "      <td>0.001171</td>\n",
       "      <td>0.001923</td>\n",
       "      <td>0.001573</td>\n",
       "      <td>-0.005047</td>\n",
       "      <td>0.004214</td>\n",
       "      <td>0.007701</td>\n",
       "      <td>0.002125</td>\n",
       "      <td>0.002054</td>\n",
       "      <td>0.004263</td>\n",
       "      <td>1.000000</td>\n",
       "      <td>-0.002587</td>\n",
       "    </tr>\n",
       "    <tr>\n",
       "      <th>Likely to Change Occupation</th>\n",
       "      <td>-0.005483</td>\n",
       "      <td>-0.002004</td>\n",
       "      <td>-0.595550</td>\n",
       "      <td>0.005768</td>\n",
       "      <td>0.001047</td>\n",
       "      <td>-0.177951</td>\n",
       "      <td>-0.006496</td>\n",
       "      <td>0.428367</td>\n",
       "      <td>0.002096</td>\n",
       "      <td>-0.005082</td>\n",
       "      <td>0.002320</td>\n",
       "      <td>-0.001641</td>\n",
       "      <td>-0.001098</td>\n",
       "      <td>-0.001835</td>\n",
       "      <td>0.002825</td>\n",
       "      <td>-0.002587</td>\n",
       "      <td>1.000000</td>\n",
       "    </tr>\n",
       "  </tbody>\n",
       "</table>\n",
       "</div>"
      ],
      "text/plain": [
       "                                  Age  Years of Experience  Job Satisfaction  \\\n",
       "Age                          1.000000             0.003682          0.001191   \n",
       "Years of Experience          0.003682             1.000000         -0.005106   \n",
       "Job Satisfaction             0.001191            -0.005106          1.000000   \n",
       "Work-Life Balance            0.004900            -0.003602         -0.006912   \n",
       "Job Opportunities            0.002576             0.003335         -0.002664   \n",
       "Salary                       0.003683             0.000032         -0.004733   \n",
       "Job Security                 0.005077             0.005392          0.003433   \n",
       "Career Change Interest      -0.001451             0.001245          0.002444   \n",
       "Skills Gap                  -0.002010            -0.002583         -0.004738   \n",
       "Mentorship Available        -0.008865             0.000569         -0.001393   \n",
       "Certifications               0.001223             0.001765          0.000130   \n",
       "Freelancing Experience       0.004643             0.009426          0.006085   \n",
       "Geographic Mobility          0.005304            -0.000868         -0.005345   \n",
       "Professional Networks        0.001481            -0.007943          0.002986   \n",
       "Career Change Events         0.012376            -0.000153         -0.002479   \n",
       "Technology Adoption          0.002228            -0.003327          0.004812   \n",
       "Likely to Change Occupation -0.005483            -0.002004         -0.595550   \n",
       "\n",
       "                             Work-Life Balance  Job Opportunities    Salary  \\\n",
       "Age                                   0.004900           0.002576  0.003683   \n",
       "Years of Experience                  -0.003602           0.003335  0.000032   \n",
       "Job Satisfaction                     -0.006912          -0.002664 -0.004733   \n",
       "Work-Life Balance                     1.000000          -0.008166  0.003372   \n",
       "Job Opportunities                    -0.008166           1.000000 -0.005110   \n",
       "Salary                                0.003372          -0.005110  1.000000   \n",
       "Job Security                          0.004280           0.002423  0.005583   \n",
       "Career Change Interest                0.006772           0.008079 -0.006256   \n",
       "Skills Gap                           -0.009977           0.010529 -0.010096   \n",
       "Mentorship Available                  0.002964          -0.005596 -0.008294   \n",
       "Certifications                       -0.009581           0.007430 -0.011309   \n",
       "Freelancing Experience               -0.012060           0.002518 -0.009209   \n",
       "Geographic Mobility                  -0.000625           0.009805  0.006643   \n",
       "Professional Networks                -0.003680           0.009668  0.003041   \n",
       "Career Change Events                  0.004101           0.006395  0.004661   \n",
       "Technology Adoption                   0.007240           0.000701 -0.001686   \n",
       "Likely to Change Occupation           0.005768           0.001047 -0.177951   \n",
       "\n",
       "                             Job Security  Career Change Interest  Skills Gap  \\\n",
       "Age                              0.005077               -0.001451   -0.002010   \n",
       "Years of Experience              0.005392                0.001245   -0.002583   \n",
       "Job Satisfaction                 0.003433                0.002444   -0.004738   \n",
       "Work-Life Balance                0.004280                0.006772   -0.009977   \n",
       "Job Opportunities                0.002423                0.008079    0.010529   \n",
       "Salary                           0.005583               -0.006256   -0.010096   \n",
       "Job Security                     1.000000               -0.008845   -0.000006   \n",
       "Career Change Interest          -0.008845                1.000000   -0.003654   \n",
       "Skills Gap                      -0.000006               -0.003654    1.000000   \n",
       "Mentorship Available             0.002259               -0.003273    0.009975   \n",
       "Certifications                   0.009402               -0.003534   -0.002458   \n",
       "Freelancing Experience          -0.005523               -0.006140   -0.003446   \n",
       "Geographic Mobility             -0.008677               -0.002127   -0.001976   \n",
       "Professional Networks            0.000009               -0.007866    0.000989   \n",
       "Career Change Events             0.008083               -0.002980   -0.007887   \n",
       "Technology Adoption              0.001171                0.001923    0.001573   \n",
       "Likely to Change Occupation     -0.006496                0.428367    0.002096   \n",
       "\n",
       "                             Mentorship Available  Certifications  \\\n",
       "Age                                     -0.008865        0.001223   \n",
       "Years of Experience                      0.000569        0.001765   \n",
       "Job Satisfaction                        -0.001393        0.000130   \n",
       "Work-Life Balance                        0.002964       -0.009581   \n",
       "Job Opportunities                       -0.005596        0.007430   \n",
       "Salary                                  -0.008294       -0.011309   \n",
       "Job Security                             0.002259        0.009402   \n",
       "Career Change Interest                  -0.003273       -0.003534   \n",
       "Skills Gap                               0.009975       -0.002458   \n",
       "Mentorship Available                     1.000000       -0.001035   \n",
       "Certifications                          -0.001035        1.000000   \n",
       "Freelancing Experience                   0.001996        0.001777   \n",
       "Geographic Mobility                      0.003439       -0.006627   \n",
       "Professional Networks                    0.000256       -0.004377   \n",
       "Career Change Events                     0.006464        0.004603   \n",
       "Technology Adoption                     -0.005047        0.004214   \n",
       "Likely to Change Occupation             -0.005082        0.002320   \n",
       "\n",
       "                             Freelancing Experience  Geographic Mobility  \\\n",
       "Age                                        0.004643             0.005304   \n",
       "Years of Experience                        0.009426            -0.000868   \n",
       "Job Satisfaction                           0.006085            -0.005345   \n",
       "Work-Life Balance                         -0.012060            -0.000625   \n",
       "Job Opportunities                          0.002518             0.009805   \n",
       "Salary                                    -0.009209             0.006643   \n",
       "Job Security                              -0.005523            -0.008677   \n",
       "Career Change Interest                    -0.006140            -0.002127   \n",
       "Skills Gap                                -0.003446            -0.001976   \n",
       "Mentorship Available                       0.001996             0.003439   \n",
       "Certifications                             0.001777            -0.006627   \n",
       "Freelancing Experience                     1.000000             0.002921   \n",
       "Geographic Mobility                        0.002921             1.000000   \n",
       "Professional Networks                     -0.007480             0.008621   \n",
       "Career Change Events                      -0.002769             0.000097   \n",
       "Technology Adoption                        0.007701             0.002125   \n",
       "Likely to Change Occupation               -0.001641            -0.001098   \n",
       "\n",
       "                             Professional Networks  Career Change Events  \\\n",
       "Age                                       0.001481              0.012376   \n",
       "Years of Experience                      -0.007943             -0.000153   \n",
       "Job Satisfaction                          0.002986             -0.002479   \n",
       "Work-Life Balance                        -0.003680              0.004101   \n",
       "Job Opportunities                         0.009668              0.006395   \n",
       "Salary                                    0.003041              0.004661   \n",
       "Job Security                              0.000009              0.008083   \n",
       "Career Change Interest                   -0.007866             -0.002980   \n",
       "Skills Gap                                0.000989             -0.007887   \n",
       "Mentorship Available                      0.000256              0.006464   \n",
       "Certifications                           -0.004377              0.004603   \n",
       "Freelancing Experience                   -0.007480             -0.002769   \n",
       "Geographic Mobility                       0.008621              0.000097   \n",
       "Professional Networks                     1.000000              0.000097   \n",
       "Career Change Events                      0.000097              1.000000   \n",
       "Technology Adoption                       0.002054              0.004263   \n",
       "Likely to Change Occupation              -0.001835              0.002825   \n",
       "\n",
       "                             Technology Adoption  Likely to Change Occupation  \n",
       "Age                                     0.002228                    -0.005483  \n",
       "Years of Experience                    -0.003327                    -0.002004  \n",
       "Job Satisfaction                        0.004812                    -0.595550  \n",
       "Work-Life Balance                       0.007240                     0.005768  \n",
       "Job Opportunities                       0.000701                     0.001047  \n",
       "Salary                                 -0.001686                    -0.177951  \n",
       "Job Security                            0.001171                    -0.006496  \n",
       "Career Change Interest                  0.001923                     0.428367  \n",
       "Skills Gap                              0.001573                     0.002096  \n",
       "Mentorship Available                   -0.005047                    -0.005082  \n",
       "Certifications                          0.004214                     0.002320  \n",
       "Freelancing Experience                  0.007701                    -0.001641  \n",
       "Geographic Mobility                     0.002125                    -0.001098  \n",
       "Professional Networks                   0.002054                    -0.001835  \n",
       "Career Change Events                    0.004263                     0.002825  \n",
       "Technology Adoption                     1.000000                    -0.002587  \n",
       "Likely to Change Occupation            -0.002587                     1.000000  "
      ]
     },
     "execution_count": 22,
     "metadata": {},
     "output_type": "execute_result"
    }
   ],
   "source": [
    "# Examine correlation between numerical features\n",
    "df[int_columns].corr()"
   ]
  },
  {
   "cell_type": "markdown",
   "id": "17a9ce41",
   "metadata": {
    "papermill": {
     "duration": 0.013663,
     "end_time": "2025-01-01T05:50:29.754900",
     "exception": false,
     "start_time": "2025-01-01T05:50:29.741237",
     "status": "completed"
    },
    "tags": []
   },
   "source": [
    "### Essential Steps for EDA in Pandas\n",
    "\n",
    "**Inspect the Dataset**:\n",
    "\n",
    "`df.head()`: View the first few rows to get a glimpse of the data structure.\n",
    "\n",
    "`df.info()`: Get an overview of column data types, non-null counts, and memory usage.\n",
    "\n",
    "`df.describe(include='all')`: Summarize numerical and categorical columns, including count, mean, standard deviation, and unique values.\n",
    "\n",
    "`df.shape`: Check the number of rows and columns.\n",
    "\n",
    "**Check for Missing Values**:\n",
    "\n",
    "`df.isnull().sum()`: Count missing values in each column.\n",
    "\n",
    "`df.isnull().mean()`: Check the proportion of missing values.\n",
    "\n",
    "**Understand Data Types**:\n",
    "\n",
    "`df.dtypes`: Confirm data types for each column.\n",
    "\n",
    "Use `pd.to_datetime()` or `astype()` to convert columns to appropriate types if needed (e.g., dates or categories).\n",
    "\n",
    "**Explore Value Distributions**:\n",
    "\n",
    "`df['column'].value_counts()`: Count occurrences of unique values in categorical columns.\n",
    "\n",
    "`df.hist() or sns.histplot()`: Check distributions for numerical columns.\n",
    "\n",
    "**Identify and Handle Duplicates**:\n",
    "\n",
    "`df.duplicated().sum()`: Count duplicate rows.\n",
    "\n",
    "`df.drop_duplicates()`: Drop duplicates if necessary.\n",
    "\n",
    "**Check for Outliers**:\n",
    "\n",
    "- Use visualization tools like box plots (`sns.boxplot()`).\n",
    "- Use statistical techniques (e.g., IQR or z-scores).\n",
    "\n",
    "**Analyze Relationships**:\n",
    "\n",
    "`df.corr()`: Examine correlation between numerical features.\n",
    "\n",
    "- Visualization tools like scatter plots, heatmaps, or pair plots.\n",
    "\n",
    "- Check for Data Imbalances (if applicable):\n",
    "\n",
    "- For target variables, especially in classification tasks, use `value_counts()` to check for class imbalances."
   ]
  }
 ],
 "metadata": {
  "kaggle": {
   "accelerator": "none",
   "dataSources": [
    {
     "datasetId": 6034803,
     "sourceId": 9837805,
     "sourceType": "datasetVersion"
    }
   ],
   "dockerImageVersionId": 30822,
   "isGpuEnabled": false,
   "isInternetEnabled": true,
   "language": "python",
   "sourceType": "notebook"
  },
  "kernelspec": {
   "display_name": "Python 3",
   "language": "python",
   "name": "python3"
  },
  "language_info": {
   "codemirror_mode": {
    "name": "ipython",
    "version": 3
   },
   "file_extension": ".py",
   "mimetype": "text/x-python",
   "name": "python",
   "nbconvert_exporter": "python",
   "pygments_lexer": "ipython3",
   "version": "3.10.12"
  },
  "papermill": {
   "default_parameters": {},
   "duration": 13.494528,
   "end_time": "2025-01-01T05:50:30.489682",
   "environment_variables": {},
   "exception": null,
   "input_path": "__notebook__.ipynb",
   "output_path": "__notebook__.ipynb",
   "parameters": {},
   "start_time": "2025-01-01T05:50:16.995154",
   "version": "2.6.0"
  }
 },
 "nbformat": 4,
 "nbformat_minor": 5
}
